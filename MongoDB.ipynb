{
 "cells": [
  {
   "cell_type": "markdown",
   "metadata": {},
   "source": [
    "Installation instructions: http://docs.mongodb.org/manual/tutorial/install-mongodb-on-ubuntu/\n",
    "\n",
    "Need at least 3.5Gb free"
   ]
  },
  {
   "cell_type": "markdown",
   "metadata": {},
   "source": [
    "https://docs.mongodb.org/getting-started/python/\n",
    "\n",
    "Install Python Driver:\n",
    "\n",
    "pip install pymongo"
   ]
  },
  {
   "cell_type": "markdown",
   "metadata": {},
   "source": [
    "#### Retrieve the restaurants data"
   ]
  },
  {
   "cell_type": "code",
   "execution_count": null,
   "metadata": {
    "collapsed": false
   },
   "outputs": [],
   "source": [
    "!curl https://raw.githubusercontent.com/mongodb/docs-assets/primer-dataset/dataset.json -o data/primer-dataset.json"
   ]
  },
  {
   "cell_type": "code",
   "execution_count": null,
   "metadata": {
    "collapsed": false
   },
   "outputs": [],
   "source": [
    "!wc -l data/primer-dataset.json"
   ]
  },
  {
   "cell_type": "code",
   "execution_count": null,
   "metadata": {
    "collapsed": false
   },
   "outputs": [],
   "source": [
    "!head -1 data/primer-dataset.json"
   ]
  },
  {
   "cell_type": "markdown",
   "metadata": {},
   "source": [
    "#### Import data into the collection.\n",
    "\n",
    "In the system shell or command prompt, use `mongoimport` to insert the documents into the restaurants collection in the `test` database. \n",
    "\n",
    "If the collection already exists in the test database, the operation will drop the restaurants collection first.\n",
    "\n",
    "The mongoimport connects to a mongod instance running on localhost on port number 27017. If you want to connect to your MongoDB instance from another machine, you need to first open port 27017 to outside connections.\n",
    "\n",
    "Also remember to edit the /etc/mongod.conf file and set your bind_ip = 0.0.0.0 in order to make connections externally."
   ]
  },
  {
   "cell_type": "code",
   "execution_count": null,
   "metadata": {
    "collapsed": false
   },
   "outputs": [],
   "source": [
    "!mongoimport --db test --collection restaurants --drop --file data/primer-dataset.json"
   ]
  },
  {
   "cell_type": "code",
   "execution_count": null,
   "metadata": {
    "collapsed": true
   },
   "outputs": [],
   "source": [
    "from pymongo import MongoClient\n",
    "\n",
    "client = MongoClient(\"mongodb://127.0.0.1:27017/\")"
   ]
  },
  {
   "cell_type": "code",
   "execution_count": null,
   "metadata": {
    "collapsed": true
   },
   "outputs": [],
   "source": [
    "db = client['test']\n",
    "# or, db = client.test"
   ]
  },
  {
   "cell_type": "code",
   "execution_count": null,
   "metadata": {
    "collapsed": false
   },
   "outputs": [],
   "source": [
    "coll = db['restaurants']\n",
    "# or, coll = db.restaurants"
   ]
  },
  {
   "cell_type": "code",
   "execution_count": null,
   "metadata": {
    "collapsed": false
   },
   "outputs": [],
   "source": [
    "from datetime import datetime\n",
    "rest_dict =  {\n",
    "        \"address\": {\n",
    "            \"street\": \"2 Avenue\",\n",
    "            \"zipcode\": \"10075\",\n",
    "            \"building\": \"1480\",\n",
    "            \"coord\": [-73.9557413, 40.7720266]\n",
    "        },\n",
    "        \"borough\": \"Manhattan\",\n",
    "        \"cuisine\": \"Italian\",\n",
    "        \"grades\": [\n",
    "            {\n",
    "                \"date\": datetime.strptime(\"2014-10-01\", \"%Y-%m-%d\"),\n",
    "                \"grade\": \"A\",\n",
    "                \"score\": 11\n",
    "            },\n",
    "            {\n",
    "                \"date\": datetime.strptime(\"2014-01-16\", \"%Y-%m-%d\"),\n",
    "                \"grade\": \"B\",\n",
    "                \"score\": 17\n",
    "            }\n",
    "        ],\n",
    "        \"name\": \"Vella\",\n",
    "        \"restaurant_id\": \"41704620\"\n",
    "    }\n"
   ]
  },
  {
   "cell_type": "code",
   "execution_count": null,
   "metadata": {
    "collapsed": false
   },
   "outputs": [],
   "source": [
    "result = client.test.restaurants.insert_one(rest_dict)"
   ]
  },
  {
   "cell_type": "code",
   "execution_count": null,
   "metadata": {
    "collapsed": false
   },
   "outputs": [],
   "source": [
    "print result.inserted_id"
   ]
  },
  {
   "cell_type": "code",
   "execution_count": null,
   "metadata": {
    "collapsed": false
   },
   "outputs": [],
   "source": [
    "cursor = db.restaurants.find()\n",
    "for document in cursor:\n",
    "    print(document)"
   ]
  },
  {
   "cell_type": "code",
   "execution_count": null,
   "metadata": {
    "collapsed": true
   },
   "outputs": [],
   "source": []
  }
 ],
 "metadata": {
  "kernelspec": {
   "display_name": "Python 2",
   "language": "python",
   "name": "python2"
  },
  "language_info": {
   "codemirror_mode": {
    "name": "ipython",
    "version": 2
   },
   "file_extension": ".py",
   "mimetype": "text/x-python",
   "name": "python",
   "nbconvert_exporter": "python",
   "pygments_lexer": "ipython2",
   "version": "2.7.6"
  }
 },
 "nbformat": 4,
 "nbformat_minor": 0
}
