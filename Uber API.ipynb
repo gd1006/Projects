{
 "cells": [
  {
   "cell_type": "code",
   "execution_count": 1,
   "metadata": {
    "collapsed": false
   },
   "outputs": [
    {
     "name": "stdout",
     "output_type": "stream",
     "text": [
      "Collecting uber-rides\n",
      "  Downloading uber_rides-0.1.1.tar.gz\n",
      "Requirement already satisfied (use --upgrade to upgrade): requests in /usr/local/lib/python2.7/dist-packages (from uber-rides)\n",
      "Requirement already satisfied (use --upgrade to upgrade): pyyaml in /usr/local/lib/python2.7/dist-packages (from uber-rides)\n",
      "Building wheels for collected packages: uber-rides\n",
      "  Running setup.py bdist_wheel for uber-rides ... \u001b[?25l-\b \bdone\n",
      "\u001b[?25h  Stored in directory: /home/ipeirotis/.cache/pip/wheels/46/10/b3/846c2e4b9b4ffd254fb331eeaf9f6127f7b8693710f0400097\n",
      "Successfully built uber-rides\n",
      "Installing collected packages: uber-rides\n",
      "Successfully installed uber-rides-0.1.1\n"
     ]
    }
   ],
   "source": [
    "!sudo pip install uber_rides"
   ]
  },
  {
   "cell_type": "code",
   "execution_count": 2,
   "metadata": {
    "collapsed": true
   },
   "outputs": [],
   "source": [
    "from uber_rides.session import Session\n",
    "session = Session(server_token='z2Lg5gYa3DT-ZbmODPzc6pmzIZpwBT7i1e2GUaQA')"
   ]
  },
  {
   "cell_type": "code",
   "execution_count": 3,
   "metadata": {
    "collapsed": true
   },
   "outputs": [],
   "source": [
    "from uber_rides.client import UberRidesClient\n",
    "client = UberRidesClient(session)\n",
    "response = client.get_products(37.77, -122.41)\n",
    "products = response.json.get('products')"
   ]
  },
  {
   "cell_type": "code",
   "execution_count": 7,
   "metadata": {
    "collapsed": false
   },
   "outputs": [
    {
     "data": {
      "text/plain": [
       "[{u'currency_code': u'USD',\n",
       "  u'display_name': u'uberX',\n",
       "  u'distance': 2.87,\n",
       "  u'duration': 1320,\n",
       "  u'estimate': u'$13-18',\n",
       "  u'high_estimate': 18,\n",
       "  u'localized_display_name': u'uberX',\n",
       "  u'low_estimate': 13,\n",
       "  u'minimum': 7,\n",
       "  u'product_id': u'b8e5c464-5de2-4539-a35a-986d6e58f186',\n",
       "  u'surge_multiplier': 1.0},\n",
       " {u'currency_code': u'USD',\n",
       "  u'display_name': u'uberXL',\n",
       "  u'distance': 2.87,\n",
       "  u'duration': 1320,\n",
       "  u'estimate': u'$20-27',\n",
       "  u'high_estimate': 27,\n",
       "  u'localized_display_name': u'uberXL',\n",
       "  u'low_estimate': 20,\n",
       "  u'minimum': 11,\n",
       "  u'product_id': u'1e0ce2df-4a1e-4333-86dd-dc0c67aaabe1',\n",
       "  u'surge_multiplier': 1.0},\n",
       " {u'currency_code': u'USD',\n",
       "  u'display_name': u'uberFAMILY',\n",
       "  u'distance': 2.87,\n",
       "  u'duration': 1320,\n",
       "  u'estimate': u'$23-28',\n",
       "  u'high_estimate': 28,\n",
       "  u'localized_display_name': u'uberFAMILY',\n",
       "  u'low_estimate': 23,\n",
       "  u'minimum': 17,\n",
       "  u'product_id': u'd6d6d7ad-67f9-43ef-a8de-86bd6224613a',\n",
       "  u'surge_multiplier': 1.0},\n",
       " {u'currency_code': u'USD',\n",
       "  u'display_name': u'UberBLACK',\n",
       "  u'distance': 2.87,\n",
       "  u'duration': 1320,\n",
       "  u'estimate': u'$29-37',\n",
       "  u'high_estimate': 37,\n",
       "  u'localized_display_name': u'UberBLACK',\n",
       "  u'low_estimate': 29,\n",
       "  u'minimum': 15,\n",
       "  u'product_id': u'0e9d8dd3-ffec-4c2b-9714-537e6174bb88',\n",
       "  u'surge_multiplier': 1.0},\n",
       " {u'currency_code': u'USD',\n",
       "  u'display_name': u'UberSUV',\n",
       "  u'distance': 2.87,\n",
       "  u'duration': 1320,\n",
       "  u'estimate': u'$41-51',\n",
       "  u'high_estimate': 51,\n",
       "  u'localized_display_name': u'UberSUV',\n",
       "  u'low_estimate': 41,\n",
       "  u'minimum': 25,\n",
       "  u'product_id': u'56487469-0d3d-4f19-b662-234b7576a562',\n",
       "  u'surge_multiplier': 1.0},\n",
       " {u'currency_code': u'USD',\n",
       "  u'display_name': u'Yellow WAV',\n",
       "  u'distance': 2.87,\n",
       "  u'duration': 1320,\n",
       "  u'estimate': u'$0',\n",
       "  u'high_estimate': 0,\n",
       "  u'localized_display_name': u'Yellow WAV',\n",
       "  u'low_estimate': 0,\n",
       "  u'minimum': 0,\n",
       "  u'product_id': u'1864554f-7796-4043-82d4-883ddde1070a',\n",
       "  u'surge_multiplier': 1.0},\n",
       " {u'currency_code': None,\n",
       "  u'display_name': u'uberT',\n",
       "  u'distance': 2.87,\n",
       "  u'duration': 1320,\n",
       "  u'estimate': u'Metered',\n",
       "  u'high_estimate': None,\n",
       "  u'localized_display_name': u'uberT',\n",
       "  u'low_estimate': None,\n",
       "  u'minimum': None,\n",
       "  u'product_id': u'ebe413ab-cf49-465f-8564-a71119bfa449',\n",
       "  u'surge_multiplier': 1.0}]"
      ]
     },
     "execution_count": 7,
     "metadata": {},
     "output_type": "execute_result"
    }
   ],
   "source": [
    "# Price estimate from NYU/Stern to NYU/Poly\n",
    "response = client.get_price_estimates(start_latitude='40.7281223',\n",
    "                           start_longitude='-73.996443', \n",
    "                           end_latitude='40.6932219', \n",
    "                           end_longitude='-73.9840766')\n",
    "products = response.json.get('prices')\n",
    "products"
   ]
  },
  {
   "cell_type": "code",
   "execution_count": null,
   "metadata": {
    "collapsed": true
   },
   "outputs": [],
   "source": []
  }
 ],
 "metadata": {
  "kernelspec": {
   "display_name": "Python 2",
   "language": "python",
   "name": "python2"
  },
  "language_info": {
   "codemirror_mode": {
    "name": "ipython",
    "version": 2
   },
   "file_extension": ".py",
   "mimetype": "text/x-python",
   "name": "python",
   "nbconvert_exporter": "python",
   "pygments_lexer": "ipython2",
   "version": "2.7.6"
  }
 },
 "nbformat": 4,
 "nbformat_minor": 0
}
