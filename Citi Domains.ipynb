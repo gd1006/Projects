{
 "cells": [
  {
   "cell_type": "code",
   "execution_count": 1,
   "metadata": {
    "collapsed": false
   },
   "outputs": [
    {
     "name": "stdout",
     "output_type": "stream",
     "text": [
      "Count\tDomain\r",
      "\r\n",
      "120058\tgmail.com\r",
      "\r\n",
      "88166\tbloomberg.net\r",
      "\r\n",
      "30354\thotmail.com\r",
      "\r\n",
      "29202\tyahoo.com\r",
      "\r\n",
      "23778\tems.euromoneyplc.com\r",
      "\r\n",
      "16730\taol.com\r",
      "\r\n",
      "9056\tmorganstanley.com\r",
      "\r\n",
      "7819\tjpmorgan.com\r",
      "\r\n",
      "6140\tubs.com\r",
      "\r\n",
      "6005\tgs.com\r",
      "\r\n",
      "5901\tdb.com\r",
      "\r\n",
      "5511\tcredit-suisse.com\r",
      "\r\n",
      "4721\tme.com\r",
      "\r\n",
      "4426\tbarclays.com\r",
      "\r\n",
      "4358\tbaml.com\r",
      "\r\n",
      "4267\tlists.bpd.treas.gov\r",
      "\r\n",
      "4143\treuters.net\r",
      "\r\n",
      "4038\tbnymellon.com\r",
      "\r\n",
      "3883\tcomcast.net\r",
      "\r\n"
     ]
    }
   ],
   "source": [
    "# this is the tab-separated file with the domains\n",
    "!head -20 data/domains.txt"
   ]
  },
  {
   "cell_type": "code",
   "execution_count": 2,
   "metadata": {
    "collapsed": true
   },
   "outputs": [],
   "source": [
    "import pandas as pd\n",
    "\n",
    "# Load the file with the top domains\n",
    "df = pd.read_csv(\"data/domains.txt\", sep =\"\\t\", header=0)\n"
   ]
  },
  {
   "cell_type": "code",
   "execution_count": null,
   "metadata": {
    "collapsed": false
   },
   "outputs": [],
   "source": [
    "import MySQLdb as mdb\n",
    "import sys\n",
    "\n",
    "con = mdb.connect(host = 'ipython.ipeirotis.com', \n",
    "                  user = 'root', \n",
    "                  passwd = 'dwdstudent2015',\n",
    "                  charset='utf8', \n",
    "                  use_unicode=True);\n",
    "\n",
    "cursor = con.cursor()\n",
    "\n",
    "db_name = 'citidomains'\n",
    "# Create a database\n",
    "create_db_query = '''CREATE DATABASE IF NOT EXISTS {0} \n",
    "                            DEFAULT CHARACTER SET \"utf8\"\n",
    "                    '''.format(db_name)\n",
    "cursor.execute(create_db_query)\n",
    "\n",
    "cursor.close()\n"
   ]
  },
  {
   "cell_type": "code",
   "execution_count": null,
   "metadata": {
    "collapsed": false
   },
   "outputs": [],
   "source": [
    "\n",
    "cursor = con.cursor()\n",
    "db_name = 'citidomains'\n",
    "table_name = 'domains'\n",
    "# Create a table\n",
    "# The {0} and {1} are placeholders for the parameters in the format(....) statement\n",
    "create_table_query = '''CREATE TABLE IF NOT EXISTS {0}.{1} \n",
    "                                (\n",
    "                                domain varchar(255), \n",
    "                                count int,\n",
    "                                json text,\n",
    "                                organization varchar(255),\n",
    "                                PRIMARY KEY(domain)\n",
    "                                )'''.format(db_name, table_name)\n",
    "cursor.execute(create_table_query)\n",
    "cursor.close()\n"
   ]
  },
  {
   "cell_type": "code",
   "execution_count": null,
   "metadata": {
    "collapsed": true
   },
   "outputs": [],
   "source": [
    "\n",
    "# Inserts the details about the domain in the MySQL database\n",
    "def insert_into_db(domain, count, json, organization):\n",
    "    \n",
    "    query_template = \"INSERT INTO citidomains.domains(domain, count, json, organization) VALUES (%s, %s, %s, %s)\"\n",
    "    query_parameters = (domain, count, json, organization)\n",
    "    \n",
    "    cursor = con.cursor()\n",
    "    cursor.execute(query_template, query_parameters)\n",
    "    con.commit()\n",
    "    cursor.close()\n"
   ]
  },
  {
   "cell_type": "code",
   "execution_count": null,
   "metadata": {
    "collapsed": false
   },
   "outputs": [],
   "source": [
    "# Returns the record for the domain from the MySQL database, if any\n",
    "def fetch_from_db(domain):\n",
    "    \n",
    "    query_template = \"SELECT * FROM citidomains.domains WHERE domain='%s'\" % (domain)\n",
    "    cur = con.cursor(mdb.cursors.DictCursor)\n",
    "    cur.execute(query_template)\n",
    "\n",
    "    rows = cur.fetchall()\n",
    "    \n",
    "    if len(rows)==0:\n",
    "        return None\n",
    "    \n",
    "    for row in rows:\n",
    "        result = {\n",
    "            \"domain\": row[\"domain\"],\n",
    "            \"organization\" : row[\"organization\"],\n",
    "            \"count\" : row[\"count\"]\n",
    "        }\n",
    "        return result\n",
    "    \n",
    "print fetch_from_db(\"gmail.com\")\n",
    "\n"
   ]
  },
  {
   "cell_type": "code",
   "execution_count": 4,
   "metadata": {
    "collapsed": false
   },
   "outputs": [
    {
     "name": "stdout",
     "output_type": "stream",
     "text": [
      "New York University\n",
      "ITS Communications Operations Services\n"
     ]
    }
   ],
   "source": [
    "\n",
    "import requests\n",
    "import json\n",
    "import collections\n",
    "import pprint\n",
    "\n",
    "# Runs the WHOIS query against the web service and returns the JSON object\n",
    "def whois(domain):\n",
    "    url = \"http://www.whoisxmlapi.com/whoisserver/WhoisService\"\n",
    "    headers = {\n",
    "      \"Accept\": \"application/json\"\n",
    "    }\n",
    "    parameters = {\n",
    "        'domainName': domain,\n",
    "        'username': 'ipeirotis',\n",
    "        'password': 'detectica123!',\n",
    "        'outputFormat': 'JSON'\n",
    "    }\n",
    "    resp = requests.get(url, params=parameters, headers=headers)\n",
    "\n",
    "    data = json.loads(resp.text)\n",
    "    return data\n",
    "\n",
    "\n",
    "# Takes the hierarchical JSON object and returns a flat representation\n",
    "def flatten(d, parent_key='', sep='_'):\n",
    "    items = []\n",
    "    for k, v in d.items():\n",
    "        new_key = parent_key + sep + k if parent_key else k\n",
    "        if isinstance(v, collections.MutableMapping):\n",
    "            items.extend(flatten(v, new_key, sep=sep).items())\n",
    "        else:\n",
    "            items.append((new_key, v))\n",
    "    return dict(items)\n",
    "\n",
    "\n",
    "\n",
    "# Processes the flattened JSON file to find the key that is likely to contain\n",
    "# the organization for the domain\n",
    "def get_organization(data):\n",
    "    for key in data:\n",
    "        if key.count(\"organization\")>0:\n",
    "            if data[key].count(\"PRIVACY\")==0:\n",
    "                return data[key]\n",
    "    for key in data:\n",
    "        if key.count(\"registrant_name\")>0:\n",
    "            if data[key].count(\"PRIVACY\")==0:\n",
    "                return data[key]    \n",
    "    return None\n",
    "        \n",
    "data = whois(\"nyu.edu\")\n",
    "organization = get_organization(flatten(data))\n",
    "print(organization)\n",
    "\n"
   ]
  },
  {
   "cell_type": "code",
   "execution_count": null,
   "metadata": {
    "collapsed": false
   },
   "outputs": [],
   "source": [
    "# Go through the list of domains\n",
    "for index, row in df.iterrows():\n",
    "    # Print a progress indicator\n",
    "    if (index%100==0):\n",
    "        print index\n",
    "    \n",
    "    # Do not resolve domains that have less than 100 distinct emails in the dataset\n",
    "    count =  int(row[0])\n",
    "    if count<100:\n",
    "        break\n",
    "    \n",
    "    # If the domain is not in the database execute a query and store the results\n",
    "    # in the database\n",
    "    domain = row[1]\n",
    "    if fetch_from_db(domain) is None:\n",
    "        data = whois(domain)\n",
    "        organization = get_organization(flatten(data))\n",
    "        insert_into_db(domain, count, json.dumps(data), organization)\n",
    "\n",
    "    \n",
    "\n"
   ]
  },
  {
   "cell_type": "code",
   "execution_count": null,
   "metadata": {
    "collapsed": true
   },
   "outputs": [],
   "source": []
  }
 ],
 "metadata": {
  "kernelspec": {
   "display_name": "Python 3",
   "language": "python",
   "name": "python3"
  },
  "language_info": {
   "codemirror_mode": {
    "name": "ipython",
    "version": 3
   },
   "file_extension": ".py",
   "mimetype": "text/x-python",
   "name": "python",
   "nbconvert_exporter": "python",
   "pygments_lexer": "ipython3",
   "version": "3.4.3"
  }
 },
 "nbformat": 4,
 "nbformat_minor": 0
}
