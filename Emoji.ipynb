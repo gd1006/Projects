{
 "cells": [
  {
   "cell_type": "code",
   "execution_count": 1,
   "metadata": {
    "collapsed": false
   },
   "outputs": [
    {
     "name": "stdout",
     "output_type": "stream",
     "text": [
      "Requirement already up-to-date: emoji in /usr/local/lib/python3.5/dist-packages\r\n"
     ]
    }
   ],
   "source": [
    "!sudo -H pip3 install -U emoji"
   ]
  },
  {
   "cell_type": "code",
   "execution_count": 2,
   "metadata": {
    "collapsed": false
   },
   "outputs": [
    {
     "name": "stdout",
     "output_type": "stream",
     "text": [
      "Requirement already up-to-date: emojipy in /usr/local/lib/python3.5/dist-packages\r\n"
     ]
    }
   ],
   "source": [
    "!sudo -H pip3 install -U emojipy"
   ]
  },
  {
   "cell_type": "code",
   "execution_count": 3,
   "metadata": {
    "collapsed": false
   },
   "outputs": [
    {
     "name": "stdout",
     "output_type": "stream",
     "text": [
      "Requirement already up-to-date: reportlab in /usr/lib/python3/dist-packages\r\n"
     ]
    }
   ],
   "source": [
    "!sudo -H pip3 install -U reportlab"
   ]
  },
  {
   "cell_type": "code",
   "execution_count": 4,
   "metadata": {
    "collapsed": false
   },
   "outputs": [
    {
     "name": "stdout",
     "output_type": "stream",
     "text": [
      "Requirement already up-to-date: Python-fontconfig in /usr/local/lib/python3.5/dist-packages\r\n"
     ]
    }
   ],
   "source": [
    "!sudo -H pip3 install -U Python-fontconfig"
   ]
  },
  {
   "cell_type": "code",
   "execution_count": 5,
   "metadata": {
    "collapsed": false
   },
   "outputs": [],
   "source": [
    "import random\n",
    "import emoji # https://pypi.python.org/pypi/emoji/\n",
    "\n",
    "# Selection from http://www.webpagefx.com/tools/emoji-cheat-sheet/\n",
    "# All the choices are picked to have a simple plural\n",
    "emojis = [':apple:', ':green_apple:', ':tangerine:', ':lemon:', ':watermelon:', ':melon:', ':banana:', ':pear:', ':pineapple:', ':sweet_potato:', ':eggplant:', ':tomato:', ':corn:']\n",
    "\n",
    "def generate_exercise(upperlimit):\n",
    "    \n",
    "    # We want to pick two different numbers\n",
    "    # from 1 to upperlimit\n",
    "    l1, l2 = 0, 0\n",
    "    while l1==l2:\n",
    "        l1 = random.randint(1,upperlimit)\n",
    "        l2 = random.randint(1,upperlimit)\n",
    "        mn, mx = min(l1,l2), max(l1,l2)\n",
    "    \n",
    "    # We choose a random emoji character from the list\n",
    "    # We add the extra space just for visual separation\n",
    "    emoji_char = random.choice(emojis)+' '\n",
    "    \n",
    "    # The code below gets the textual description of the emoji character\n",
    "    # and also creates its plural form if necessary\n",
    "    emoji_desc = emoji_char[1:-2]\n",
    "    if l1 > 1:\n",
    "        l1_emoji_desc = emoji_desc + 's'\n",
    "    else:\n",
    "        l1_emoji_desc = emoji_desc\n",
    "    if l2 > 1:\n",
    "        l2_emoji_desc = emoji_desc + 's'\n",
    "    else:\n",
    "        l2_emoji_desc = emoji_desc        \n",
    "    \n",
    "    # Create the exercise\n",
    "    message =  \"A. \" + emoji.emojize(l1*emoji_char, use_aliases=True) + \"\\n\"\n",
    "    message += \"B. \" + emoji.emojize(l2*emoji_char, use_aliases=True) + \"\\n\"\n",
    "    message += \"\\n\"\n",
    "    message += \"Line A has ____ \" + l1_emoji_desc +\"\\n\\n\"\n",
    "    message += \"Line B has ____ \" + l2_emoji_desc +\"\\n\\n\"\n",
    "    choice = random.choice(['more', 'less'])\n",
    "    if choice == 'more':\n",
    "        message += str(mx) + \" is ____ more than \" + str(mn)\n",
    "    else: \n",
    "        message += str(mn) + \" is ____ less than \" + str(mx)     \n",
    "    message += \"\\n------------------------------\\n\"\n",
    "    return message\n"
   ]
  },
  {
   "cell_type": "code",
   "execution_count": 6,
   "metadata": {
    "collapsed": false
   },
   "outputs": [
    {
     "data": {
      "text/plain": [
       "['A. 🍠 🍠 🍠 ',\n",
       " 'B. 🍠 🍠 🍠 🍠 ',\n",
       " '',\n",
       " 'Line A has ____ sweet_potatos',\n",
       " '',\n",
       " 'Line B has ____ sweet_potatos',\n",
       " '',\n",
       " '4 is ____ more than 3',\n",
       " '------------------------------',\n",
       " '',\n",
       " 'A. 🍠 ',\n",
       " 'B. 🍠 🍠 🍠 🍠 🍠 🍠 ',\n",
       " '',\n",
       " 'Line A has ____ sweet_potato',\n",
       " '',\n",
       " 'Line B has ____ sweet_potatos',\n",
       " '',\n",
       " '1 is ____ less than 6',\n",
       " '------------------------------',\n",
       " '',\n",
       " 'A. 🍋 🍋 🍋 🍋 🍋 🍋 🍋 🍋 🍋 🍋 ',\n",
       " 'B. 🍋 🍋 🍋 🍋 🍋 🍋 🍋 🍋 ',\n",
       " '',\n",
       " 'Line A has ____ lemons',\n",
       " '',\n",
       " 'Line B has ____ lemons',\n",
       " '',\n",
       " '10 is ____ more than 8',\n",
       " '------------------------------',\n",
       " '']"
      ]
     },
     "execution_count": 6,
     "metadata": {},
     "output_type": "execute_result"
    }
   ],
   "source": [
    "lines = [l  for i in range(3) for l in generate_exercise(10).split(\"\\n\")]\n",
    "lines"
   ]
  },
  {
   "cell_type": "code",
   "execution_count": 7,
   "metadata": {
    "collapsed": true
   },
   "outputs": [],
   "source": [
    "from emojipy import Emoji\n",
    "# Pdf doesn't need any unicode inside <image>'s alt attribute\n",
    "Emoji.unicode_alt = False\n",
    "\n",
    "def replace_with_emoji_pdf(text, size):\n",
    "    \"\"\"\n",
    "    Reportlab's Paragraph doesn't accept normal html <image> tag's attributes\n",
    "    like 'class', 'alt'. Its a little hack to remove those attrbs\n",
    "    \"\"\"\n",
    "\n",
    "    text = Emoji.to_image(text)\n",
    "    text = text.replace('class=\"emojione None\"', 'height=%s width=%s' %\n",
    "                        (size, size))\n",
    "    return re.sub('alt=\"'+Emoji.shortcode_regexp+'\"', '', text)\n"
   ]
  },
  {
   "cell_type": "code",
   "execution_count": 8,
   "metadata": {
    "collapsed": false
   },
   "outputs": [
    {
     "name": "stdout",
     "output_type": "stream",
     "text": [
      "  % Total    % Received % Xferd  Average Speed   Time    Time     Time  Current\n",
      "                                 Dload  Upload   Total   Spent    Left  Speed\n",
      "100   146    0   146    0     0    327      0 --:--:-- --:--:-- --:--:--   328\n",
      "100 2118k  100 2118k    0     0  2160k      0 --:--:-- --:--:-- --:--:-- 16.0M\n"
     ]
    }
   ],
   "source": [
    "!curl -L 'https://github.com/stv0g/unicode-emoji/raw/master/symbola/Symbola.ttf' -o symbola.ttf"
   ]
  },
  {
   "cell_type": "code",
   "execution_count": 9,
   "metadata": {
    "collapsed": false
   },
   "outputs": [],
   "source": [
    "from reportlab.platypus import Paragraph\n",
    "from reportlab.lib.styles import getSampleStyleSheet\n",
    "from reportlab.pdfgen import canvas\n",
    "from reportlab.rl_config import defaultPageSize\n",
    "from reportlab.pdfbase import pdfmetrics\n",
    "from reportlab.lib.pagesizes import letter\n",
    "from reportlab.pdfbase.ttfonts import TTFont\n",
    "from reportlab.platypus import SimpleDocTemplate, Paragraph, Spacer, Image\n",
    "from reportlab.lib.styles import getSampleStyleSheet, ParagraphStyle\n",
    "from reportlab.lib.enums import TA_JUSTIFY\n",
    "\n",
    "import re\n",
    "\n",
    "import fontconfig\n",
    "\n",
    "\n",
    "\n",
    "\n",
    "def text2pdf(lines, filename, font_name):\n",
    "    \n",
    "    \n",
    "    # Register font\n",
    "    fonts = fontconfig.query(family=font_name, lang='en')\n",
    "    font_file = fonts[0].file \n",
    "    registered_font = TTFont(font_name, font_file)\n",
    "    pdfmetrics.registerFont(registered_font)\n",
    "\n",
    "    # width, height = defaultPageSize\n",
    "    \n",
    "    styles = getSampleStyleSheet()\n",
    "    style = styles[\"Normal\"]\n",
    "    style.fontName = font_name\n",
    "    \n",
    "    doc = SimpleDocTemplate(filename,pagesize=letter,\n",
    "                        rightMargin=72,leftMargin=72,\n",
    "                        topMargin=72,bottomMargin=18)\n",
    "\n",
    "    Story = []\n",
    "    for line in lines:\n",
    "        content = replace_with_emoji_pdf(Emoji.to_image(line), style.fontSize)\n",
    "        para = Paragraph(content, style)\n",
    "        Story.append(para)\n",
    "        Story.append(Spacer(1, 12))\n",
    " \n",
    "    doc.build(Story)\n"
   ]
  },
  {
   "cell_type": "code",
   "execution_count": 10,
   "metadata": {
    "collapsed": false
   },
   "outputs": [],
   "source": [
    "text2pdf(lines, \"math.pdf\", \"Ubuntu\")"
   ]
  },
  {
   "cell_type": "code",
   "execution_count": null,
   "metadata": {
    "collapsed": true
   },
   "outputs": [],
   "source": []
  }
 ],
 "metadata": {
  "kernelspec": {
   "display_name": "Python 3",
   "language": "python",
   "name": "python3"
  },
  "language_info": {
   "codemirror_mode": {
    "name": "ipython",
    "version": 3
   },
   "file_extension": ".py",
   "mimetype": "text/x-python",
   "name": "python",
   "nbconvert_exporter": "python",
   "pygments_lexer": "ipython3",
   "version": "3.5.2"
  }
 },
 "nbformat": 4,
 "nbformat_minor": 1
}
