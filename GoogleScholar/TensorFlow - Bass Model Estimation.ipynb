{
 "cells": [
  {
   "cell_type": "markdown",
   "metadata": {},
   "source": [
    "## Bass model written in Tensorflow\n",
    "\n",
    "The simplest form of the [Bass diffusion model](https://en.wikipedia.org/wiki/Bass_diffusion_model) can be written as:\n",
    "\n",
    "$f(t) = (p + q \\cdot F(t)) \\cdot (1-F(t))$\n",
    "\n",
    "$s(t)  = m \\cdot f(t)$\n",
    "\n",
    "where \n",
    "\n",
    "* $f(t)$ is the change of the installed base fraction at time $t$\n",
    "* $F(t)$ is the installed base fraction at time $t$ (i.e., $F(t) = \\sum_{t=1}^{t-1} f(t)$)\n",
    "* $p$ is the coefficient of innovation\n",
    "* $q$  is the coefficient of imitation\n",
    "* $m$ ultimate market potential\n",
    "* $s(t)$  at time $t$ is the sales at time $t$, i.e., the rate of change of installed base (i.e. adoption) $f(t)$  multiplied by the ultimate market potential $m$.\n",
    "* $S(t)$ is the total sales at time $t$, equal to $S(t) = m \\cdot F(t)$\n",
    "\n"
   ]
  },
  {
   "cell_type": "markdown",
   "metadata": {},
   "source": [
    "#### First basic computation"
   ]
  },
  {
   "cell_type": "markdown",
   "metadata": {},
   "source": [
    "We will now implement a simple graph in Tensorflow to write that computation. We will assume that we know the variables $p$, $q$, $F(t)$, and $m$, and then compute the value of $S(t)$.\n"
   ]
  },
  {
   "cell_type": "code",
   "execution_count": 2,
   "metadata": {
    "collapsed": true
   },
   "outputs": [],
   "source": [
    "import tensorflow as tf\n",
    "import numpy as np"
   ]
  },
  {
   "cell_type": "code",
   "execution_count": 4,
   "metadata": {
    "collapsed": false
   },
   "outputs": [
    {
     "name": "stdout",
     "output_type": "stream",
     "text": [
      "1920.0\n"
     ]
    }
   ],
   "source": [
    "p = tf.constant(0.02)\n",
    "q = tf.constant(0.38)\n",
    "Ft = tf.constant(0.2)\n",
    "m = tf.constant(25000.)\n",
    "\n",
    "ft = tf.mul( tf.add(p, tf.mul( q, Ft)) , tf.sub(1., Ft))\n",
    "st = tf.mul(ft , m)\n",
    "\n",
    "with tf.Session() as sess:\n",
    "    result = sess.run(st)\n",
    "    print(result)\n"
   ]
  },
  {
   "cell_type": "markdown",
   "metadata": {},
   "source": [
    "Notice that we just implemented a trivially easy numeric operation, that we could also write as a one-liner in Python.\n",
    "\n",
    "```\n",
    "St = m * (p + q * Ft) * (1 - Ft)\n",
    "```\n",
    "\n",
    "We will see the real value of our approach later, when we will start doing computations with unknown parameters."
   ]
  },
  {
   "cell_type": "markdown",
   "metadata": {},
   "source": [
    "#### Fitting the model"
   ]
  },
  {
   "cell_type": "markdown",
   "metadata": {},
   "source": [
    "[Following the guidelines](http://www.bassbasement.org/BassModel/Default.aspx), we solve the differential equation for $F(t)$:\n",
    "\n",
    "\\begin{equation}\n",
    "F(t) = \\frac{1 - e^{-(p+q)t}} {1+\\frac{q}{p}e^{-(p+q)t}}\n",
    "\\end{equation}\n",
    "\n",
    "Then, we rewrite our code for computing the value $S(t) = m \\cdot F(t)$ for a given set of parameters and different values of $t$."
   ]
  },
  {
   "cell_type": "code",
   "execution_count": 7,
   "metadata": {
    "collapsed": true
   },
   "outputs": [],
   "source": [
    "def getSt(p, q, m, t):\n",
    "    pq = tf.add(p, q)\n",
    "    pqt = tf.exp( -tf.mul(pq, t))\n",
    "    Ft = tf.div( tf.sub(1., pqt ),  tf.add(1., tf.mul( tf.div(q, p), pqt ) ) )\n",
    "    St = tf.mul(Ft , m)\n",
    "    return St"
   ]
  },
  {
   "cell_type": "markdown",
   "metadata": {},
   "source": [
    "Now, we will apply the first TensorFlow trick. Instead of computing a single instance of $S(t)$, we will create a vector for the parameter $t$, and get back a vector of instances of $S(t)$."
   ]
  },
  {
   "cell_type": "code",
   "execution_count": 8,
   "metadata": {
    "collapsed": false
   },
   "outputs": [
    {
     "name": "stdout",
     "output_type": "stream",
     "text": [
      "[     0.             53.05213547    123.12915039    215.61453247\n",
      "    337.53466797    498.01623535    708.83813477    985.07324219\n",
      "   1345.78869629   1814.73376465   2420.87719727   3198.54248047\n",
      "   4186.78710938   5427.50976562   6961.73242188   8823.64746094\n",
      "  11032.52050781  13583.50097656  16439.69335938  19528.79882812\n",
      "  22747.16992188  25972.18945312  29080.234375    31964.96484375\n",
      "  34550.41796875  36796.03125     38693.90625     40261.203125\n",
      "  41530.94921875  42543.76953125  43341.6953125   43964.19140625\n",
      "  44446.1171875   44817.01953125  45101.171875    45318.109375    45483.28125\n",
      "  45608.7890625   45704.01171875  45776.16796875  45830.80078125\n",
      "  45872.13671875  45903.390625    45927.01953125  45944.87890625\n",
      "  45958.3671875   45968.55859375  45976.2578125   45982.07421875\n",
      "  45986.45703125  45989.77734375]\n"
     ]
    }
   ],
   "source": [
    "p = tf.constant(0.001)\n",
    "q = tf.constant(0.28)\n",
    "m = tf.constant(46000.)\n",
    "time = tf.linspace(0., 50, 51)\n",
    "\n",
    "St = getSt(p, q, m, time)\n",
    "\n",
    "init = tf.initialize_all_variables()\n",
    "with tf.Session() as sess:\n",
    "    sess.run(init)\n",
    "    result = sess.run(St)\n",
    "    print(result)"
   ]
  },
  {
   "cell_type": "markdown",
   "metadata": {},
   "source": [
    "### Estimating Parameter Values from Data"
   ]
  },
  {
   "cell_type": "markdown",
   "metadata": {},
   "source": [
    "Now, let's assume that we have the values of $S(t)$ over time, and let's try to estimate a variable."
   ]
  },
  {
   "cell_type": "code",
   "execution_count": null,
   "metadata": {
    "collapsed": false
   },
   "outputs": [],
   "source": [
    "# Data\n",
    "sf_data = np.array( [0., 43., 87., 132., 122., 176., 228., 278., 574., 543., 903., 1129., 1462., 1654., 1848.]).astype(np.float32)\n",
    "SF_data = np.cumsum(sf_data).astype(np.float32)\n",
    "print SF_data"
   ]
  },
  {
   "cell_type": "markdown",
   "metadata": {},
   "source": [
    "Now we are going to setup our model, by defining which of the variables (which we set as constants before) are actually unknown, and should be modeled as random variables."
   ]
  },
  {
   "cell_type": "code",
   "execution_count": null,
   "metadata": {
    "collapsed": false
   },
   "outputs": [],
   "source": [
    "# Setup the model\n",
    "p = tf.Variable(tf.random_uniform([1], 0, 0.1))\n",
    "# p = tf.constant(0.01)\n",
    "q = tf.Variable(tf.random_uniform([1], 0, 2.0))\n",
    "# q = tf.constant(0.38)\n",
    "m = tf.Variable(tf.random_normal([1], mean=50000, stddev=25000))\n",
    "# m = tf.constant(50000.)\n",
    "\n",
    "l = len(SF_data)\n",
    "time = tf.linspace(0., l, l)\n",
    "SF = getSFt(p, q, m, time)"
   ]
  },
  {
   "cell_type": "code",
   "execution_count": null,
   "metadata": {
    "collapsed": false
   },
   "outputs": [],
   "source": [
    "# Minimize the mean squared errors.\n",
    "loss = tf.reduce_mean( tf.square(SF - SF_data) ) \n",
    "optimizer = tf.train.AdamOptimizer()\n",
    "train = optimizer.minimize(loss)"
   ]
  },
  {
   "cell_type": "code",
   "execution_count": null,
   "metadata": {
    "collapsed": false
   },
   "outputs": [],
   "source": [
    "# Before starting, initialize the variables.  We will 'run' this first.\n",
    "init = tf.initialize_all_variables()\n",
    "\n",
    "# Launch the graph.\n",
    "sess = tf.Session()\n",
    "sess.run(init)\n"
   ]
  },
  {
   "cell_type": "code",
   "execution_count": null,
   "metadata": {
    "collapsed": false
   },
   "outputs": [],
   "source": [
    "for step in range(100001):\n",
    "    sess.run(train)\n",
    "    if step % 20000 == 0:\n",
    "        print(step, sess.run(p), sess.run(q), sess.run(m))\n",
    "print(step, sess.run(p), sess.run(q), sess.run(m))"
   ]
  },
  {
   "cell_type": "code",
   "execution_count": null,
   "metadata": {
    "collapsed": false
   },
   "outputs": [],
   "source": []
  },
  {
   "cell_type": "code",
   "execution_count": null,
   "metadata": {
    "collapsed": true
   },
   "outputs": [],
   "source": []
  },
  {
   "cell_type": "code",
   "execution_count": null,
   "metadata": {
    "collapsed": true
   },
   "outputs": [],
   "source": []
  }
 ],
 "metadata": {
  "kernelspec": {
   "display_name": "Python 2",
   "language": "python",
   "name": "python2"
  },
  "language_info": {
   "codemirror_mode": {
    "name": "ipython",
    "version": 2
   },
   "file_extension": ".py",
   "mimetype": "text/x-python",
   "name": "python",
   "nbconvert_exporter": "python",
   "pygments_lexer": "ipython2",
   "version": "2.7.6"
  }
 },
 "nbformat": 4,
 "nbformat_minor": 0
}
