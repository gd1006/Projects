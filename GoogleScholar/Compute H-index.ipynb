{
 "cells": [
  {
   "cell_type": "code",
   "execution_count": 8,
   "metadata": {
    "collapsed": false
   },
   "outputs": [
    {
     "name": "stdout",
     "output_type": "stream",
     "text": [
      "('Database version:', (u'5.5.49',))\n"
     ]
    }
   ],
   "source": [
    "import MySQLdb as mdb\n",
    "import sys\n",
    "\n",
    "# The connect() method has four parameters. \n",
    "# The first parameter is the host, where the MySQL database is located. \n",
    "# In our case it is a localhost, e.g. our computer. \n",
    "# The second parameter is the database user name. \n",
    "# It is followed by the user's account password. \n",
    "# The final parameter is the database name.\n",
    "host = '173.194.242.182'\n",
    "username = 'programize'\n",
    "password = 'scholar123!'\n",
    "database = 'citation_analysis_db'\n",
    "\n",
    "con = mdb.connect(host, username, password, database, \n",
    "                charset='utf8', use_unicode=True);\n",
    "cur = con.cursor()\n",
    "cur.execute(\"SELECT VERSION()\")\n",
    "ver = cur.fetchone()\n",
    "print(\"Database version:\", ver)\n",
    "\n",
    "con.close()"
   ]
  },
  {
   "cell_type": "code",
   "execution_count": null,
   "metadata": {
    "collapsed": true
   },
   "outputs": [],
   "source": []
  },
  {
   "cell_type": "code",
   "execution_count": null,
   "metadata": {
    "collapsed": true
   },
   "outputs": [],
   "source": []
  }
 ],
 "metadata": {
  "kernelspec": {
   "display_name": "Python 2",
   "language": "python",
   "name": "python2"
  },
  "language_info": {
   "codemirror_mode": {
    "name": "ipython",
    "version": 2
   },
   "file_extension": ".py",
   "mimetype": "text/x-python",
   "name": "python",
   "nbconvert_exporter": "python",
   "pygments_lexer": "ipython2",
   "version": "2.7.6"
  }
 },
 "nbformat": 4,
 "nbformat_minor": 0
}
