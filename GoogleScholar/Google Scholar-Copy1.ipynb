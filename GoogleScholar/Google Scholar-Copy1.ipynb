{
 "cells": [
  {
   "cell_type": "code",
   "execution_count": null,
   "metadata": {
    "collapsed": false
   },
   "outputs": [],
   "source": [
    "%matplotlib inline\n",
    "import matplotlib.pyplot as plt\n",
    "\n",
    "pd.options.display.mpl_style = 'default'\n",
    "plt.rcParams['figure.figsize'] = (15, 5)\n"
   ]
  },
  {
   "cell_type": "code",
   "execution_count": null,
   "metadata": {
    "collapsed": false
   },
   "outputs": [],
   "source": [
    "import requests\n",
    "import json\n",
    "\n",
    "author_endpoint = \"http://citation-analysis.appspot.com/author/\"\n",
    "publication_endpoint = \"http://citation-analysis.appspot.com/publication/\"\n",
    "author = \"aKeZJnUAAAAJ\"\n",
    "\n",
    "resp = requests.get(author_endpoint + author)\n",
    "data = json.loads(resp.text)\n",
    "publications = data[\"publication_ids\"]\n",
    "\n",
    "total = 0\n",
    "for pub in publications:\n",
    "    # print publication_endpoint + pub\n",
    "    resp2 = requests.get(publication_endpoint + pub)\n",
    "    try:\n",
    "        data2 = json.loads(resp2.text)\n",
    "    except:\n",
    "        continue\n",
    "    print unicode(data2[\"total_citations\"]) +  u\" --- \" + data2[\"title\"]\n",
    "    print \"==============\"\n",
    "    total += data2[\"total_citations\"]\n",
    "    \n",
    "print total"
   ]
  },
  {
   "cell_type": "code",
   "execution_count": null,
   "metadata": {
    "collapsed": false
   },
   "outputs": [],
   "source": [
    "import requests\n",
    "import json\n",
    "import time\n",
    "\n",
    "\n",
    "author_endpoint = \"http://citation-analysis.appspot.com/author/\"\n",
    "tofetch_authors = set([\"PA9La6oAAAAJ\"])\n",
    "fetched_authors = set([])\n",
    "\n",
    "while len(tofetch_authors)>0:\n",
    "    author = tofetch_authors.pop()\n",
    "    print \"Pending:\", len(tofetch_authors)\n",
    "    print \"Done:\", len(fetched_authors)\n",
    "    print \"Fetching:\", author\n",
    "    \n",
    "    resp = requests.get(author_endpoint + author)\n",
    "    try:\n",
    "        data = json.loads(resp.text)\n",
    "        fetched_authors.add(author)\n",
    "    except:\n",
    "        tofetch_authors.add(author)\n",
    "        print \"===========================\"\n",
    "        continue\n",
    "    \n",
    "    name = data[\"name\"]\n",
    "    print \"Added \", name\n",
    "    print \"===========================\"\n",
    "    coauthors = data[\"coauthor_ids\"]\n",
    "    for coauthor in coauthors:\n",
    "        if coauthor in fetched_authors or coauthor is None:\n",
    "            continue\n",
    "        else:\n",
    "            tofetch_authors.add(coauthor)\n",
    "\n",
    "   "
   ]
  },
  {
   "cell_type": "code",
   "execution_count": null,
   "metadata": {
    "collapsed": false
   },
   "outputs": [],
   "source": [
    "import requests\n",
    "import json\n",
    "import csv\n",
    "import pandas as pd\n",
    "import requests\n",
    "\n",
    "author_endpoint = \"http://citation-analysis.appspot.com/author/\"\n",
    "authors = ['-Km63D4AAAAJ', '-MQgcjYAAAAJ', '-V1HvPYAAAAJ', '0epc43IAAAAJ', '0hgmLKMAAAAJ', '2xBzrdYAAAAJ', '3BX3vWcAAAAJ', '5nUaWmMAAAAJ', '7OW6weoAAAAJ', '8JkiWl0AAAAJ', '8N_cfXsAAAAJ', '8_a-wgUAAAAJ', '8fztli4AAAAJ', '98Uq2IsAAAAJ', '9twfX9cAAAAJ', 'BxCCm4cAAAAJ', 'DKCx8hcAAAAJ', 'DSLquxEAAAAJ', 'D_JpQnAAAAAJ', 'E2uuNVoAAAAJ', 'EicYvbwAAAAJ', 'Fa13zIoAAAAJ', 'KC7FG9QAAAAJ', 'K__JmtcAAAAJ', 'KpNeomkAAAAJ', 'M0OB5XQAAAAJ', 'MDIyLnwAAAAJ', 'Md2HV1cAAAAJ', 'N2Rbbw8AAAAJ', 'P0YH9McAAAAJ', 'PA9La6oAAAAJ', 'Q3YPpnwAAAAJ', 'Se3D91QAAAAJ', 'U0NU_94AAAAJ', 'UMYf8QMAAAAJ', 'UWZA0v4AAAAJ', 'V4OPEAgAAAAJ', 'V6LJpwgAAAAJ', 'W3oUoyEAAAAJ', 'WGgk0_AAAAAJ', 'XmLMNyUAAAAJ', 'ZHMbRd4AAAAJ', 'ZasL8IoAAAAJ', 'bgfl9AYAAAAJ', 'blwKAkUAAAAJ', 'c1dydJIAAAAJ', 'f0Wc8tkAAAAJ', 'fP-OzuoAAAAJ', 'fyHJ87oAAAAJ', 'gXrMlhIAAAAJ', 'gvJX5l8AAAAJ', 'h0ZyN6QAAAAJ', 'jbB0DYUAAAAJ', 'k4Y1nEwAAAAJ', 'kGKlHp0AAAAJ', 'm50LZsUAAAAJ', 'mhmvCgsAAAAJ', 'nKR2tGvMLFMC', 'niwimDYAAAAJ', 'oQHsB5kAAAAJ', 'oj_DO_AAAAAJ', 'pju_kjIAAAAJ', 'v8n2lqAAAAAJ', 'vPEmzqYAAAAJ', 'wyCIJfQAAAAJ', 'yrFC-2EAAAAJ', 'zpN9P0sAAAAJ', 'zwax5qkAAAAJ']\n",
    "headers = ['Scholar ID', 'Name', 'Year', 'Citations', 'Age', 'last_year_citations', 'last2_year_citations', 'growth_absolute', 'growth_relative']\n",
    "\n",
    "tuples = []\n",
    "for author in authors:\n",
    "    resp = requests.get(author_endpoint + author)\n",
    "    if resp.status_code != 200:\n",
    "        continue\n",
    "    data = json.loads(resp.text)\n",
    "    name = data[\"name\"]\n",
    "    yearly_cits = data[\"citations_per_year\"]\n",
    "    start = min([int(y) for y in yearly_cits.keys()])\n",
    "\n",
    "    for year in sorted(yearly_cits.keys()):\n",
    "        current_year = int(year)\n",
    "\n",
    "        citations = int(yearly_cits.get(year))\n",
    "        if year==2015:\n",
    "            day_of_year = datetime.now().timetuple().tm_yday\n",
    "            citations = (365 * citations) / day_of_year\n",
    "        \n",
    "        last_year_citations = yearly_cits.get(str(current_year-1))\n",
    "        if last_year_citations == None:\n",
    "            last_year_citations = 0\n",
    "        \n",
    "        last2_year_citations = yearly_cits.get(str(current_year-2))\n",
    "        if last2_year_citations == None:\n",
    "            last2_year_citations = 0\n",
    "        \n",
    "        growth_absolute = last_year_citations-last2_year_citations\n",
    "        growth_relative = growth_absolute/(last2_year_citations+1.0)\n",
    "        \n",
    "        t = (author, name, int(year), int(citations), int(year)-start, last_year_citations, last2_year_citations, growth_absolute, growth_relative)\n",
    "        tuples.append(t)\n",
    "\n",
    "df = pd.DataFrame(data=tuples, columns = headers)"
   ]
  },
  {
   "cell_type": "code",
   "execution_count": null,
   "metadata": {
    "collapsed": false
   },
   "outputs": [],
   "source": [
    "# Let's do a scatterplot \n",
    "df.plot(kind='scatter', x='last_year_citations', y='Citations')"
   ]
  },
  {
   "cell_type": "markdown",
   "metadata": {},
   "source": []
  },
  {
   "cell_type": "code",
   "execution_count": null,
   "metadata": {
    "collapsed": false
   },
   "outputs": [],
   "source": [
    "# Apparently, there is a strong autocorrelation between current year and last year citation. Let's \n",
    "# create a Growth variable for predicting growth of citations\n",
    "df[\"Growth\"] = map(lambda x,y: x-y, df[\"Citations\"],  df[\"last_year_citations\"])\n",
    "# and relative growth...\n",
    "df[\"RelGrowth\"] = map(lambda x,y: x/y if y>0 else 1.0, df[\"Citations\"],  df[\"last_year_citations\"])\n",
    "\n",
    "df.head()"
   ]
  },
  {
   "cell_type": "code",
   "execution_count": null,
   "metadata": {
    "collapsed": false
   },
   "outputs": [],
   "source": [
    "df.plot(kind='scatter', x='growth_absolute', y='Growth')\n",
    "\n",
    "df.plot(kind='scatter', x='growth_relative', y='RelGrowth')"
   ]
  },
  {
   "cell_type": "code",
   "execution_count": null,
   "metadata": {
    "collapsed": false
   },
   "outputs": [],
   "source": [
    "# This creates a pivot table with Authors as columns, in order to do some exploratory plots\n",
    "byyear = df.pivot(index='Age', columns='Name', values='Citations')\n",
    "byyear.head()"
   ]
  },
  {
   "cell_type": "code",
   "execution_count": null,
   "metadata": {
    "collapsed": false
   },
   "outputs": [],
   "source": [
    "byyear.plot(legend=False, logy=False)\n",
    "byyear.plot(legend=False, logy=True)\n",
    "byyear.cumsum().plot(legend=False, logy=True)\n",
    "byyear.cumsum().plot(legend=False, logy=False)"
   ]
  },
  {
   "cell_type": "code",
   "execution_count": null,
   "metadata": {
    "collapsed": false
   },
   "outputs": [],
   "source": [
    "import statsmodels.formula.api as sm\n",
    "\n",
    "result = sm.ols(formula=\"Growth ~ growth_absolute\", data=df).fit()\n",
    "print result.summary()"
   ]
  },
  {
   "cell_type": "code",
   "execution_count": null,
   "metadata": {
    "collapsed": false
   },
   "outputs": [],
   "source": [
    "import numpy as np\n",
    "import pandas as pd\n",
    "from statsmodels.genmod.generalized_estimating_equations import GEE\n",
    "from statsmodels.genmod.cov_struct import (Exchangeable, Independence, Autoregressive)\n",
    "from statsmodels.genmod.families import Poisson\n",
    "\n",
    "mod1 = GEE.from_formula(\"Citations ~ last_year_citations\", \n",
    "                         \"Name\", df, cov_struct=Independence(), family=Poisson())\n",
    "rslt1 = mod1.fit()\n",
    "print rslt1.summary()"
   ]
  },
  {
   "cell_type": "code",
   "execution_count": null,
   "metadata": {
    "collapsed": false
   },
   "outputs": [],
   "source": [
    "df[\"constant\"] = 1\n",
    "from statsmodels.discrete.discrete_model import Poisson\n",
    "\n",
    "df[['Citations', 'last_year_citations', 'growth_absolute', 'constant']] = df[['Citations', 'last_year_citations', 'growth_absolute', 'constant']].astype(float)\n",
    "\n",
    "model = Poisson.from_formula(\"Citations ~ last_year_citations + growth_absolute + constant\", df)\n",
    "results = model.fit('newton')\n",
    "print results.summary()\n"
   ]
  },
  {
   "cell_type": "code",
   "execution_count": null,
   "metadata": {
    "collapsed": true
   },
   "outputs": [],
   "source": []
  }
 ],
 "metadata": {
  "kernelspec": {
   "display_name": "Python 2",
   "language": "python",
   "name": "python2"
  },
  "language_info": {
   "codemirror_mode": {
    "name": "ipython",
    "version": 2
   },
   "file_extension": ".py",
   "mimetype": "text/x-python",
   "name": "python",
   "nbconvert_exporter": "python",
   "pygments_lexer": "ipython2",
   "version": "2.7.6"
  }
 },
 "nbformat": 4,
 "nbformat_minor": 0
}
