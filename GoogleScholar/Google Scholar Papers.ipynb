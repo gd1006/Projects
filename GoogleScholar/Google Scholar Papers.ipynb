{
 "cells": [
  {
   "cell_type": "markdown",
   "metadata": {},
   "source": [
    "1. Future impact: Predicting scientific success, \n",
    "_Daniel E. Acuna,\tStefano Allesina\t& Konrad P. Kording,_\n",
    "**Nature**\n",
    "http://www.nature.com/nature/journal/v489/n7415/full/489201a.html\n",
    "\n",
    "2. Quantifying Long-Term Scientific Impact, \n",
    "_Dashun Wang, Chaoming Song, Albert-László Barabási_\n",
    "**Science**\n",
    "http://dx.doi.org/10.1126/science.1237825\n",
    "\n",
    "3. Citation count prediction: learning to estimate future citations for literature\n",
    "**CIKM 2011**\n",
    "http://dl.acm.org/citation.cfm?id=2063757\n"
   ]
  },
  {
   "cell_type": "code",
   "execution_count": null,
   "metadata": {
    "collapsed": true
   },
   "outputs": [],
   "source": []
  },
  {
   "cell_type": "code",
   "execution_count": null,
   "metadata": {
    "collapsed": true
   },
   "outputs": [],
   "source": [
    "\n",
    "\n",
    "http://www3.nd.edu/~ydong1/papers/WSDM15-Dong-Johnson-Chawla-hindex-scientific-impact.pdf\n",
    "\n",
    "\n",
    "\n",
    "http://www3.nd.edu/~ydong1/papers/WSDM15-Dong-Johnson-Chawla-hindex-scientific-impact.pdf\n"
   ]
  }
 ],
 "metadata": {
  "kernelspec": {
   "display_name": "Python 2",
   "language": "python",
   "name": "python2"
  },
  "language_info": {
   "codemirror_mode": {
    "name": "ipython",
    "version": 2
   },
   "file_extension": ".py",
   "mimetype": "text/x-python",
   "name": "python",
   "nbconvert_exporter": "python",
   "pygments_lexer": "ipython2",
   "version": "2.7.6"
  }
 },
 "nbformat": 4,
 "nbformat_minor": 0
}
