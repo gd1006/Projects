{
 "cells": [
  {
   "cell_type": "code",
   "execution_count": 1,
   "metadata": {
    "collapsed": false
   },
   "outputs": [],
   "source": [
    "import MySQLdb as mdb\n",
    "import sys\n",
    "import pandas as pd\n",
    "\n",
    "\n",
    "# The connect() method has four parameters. \n",
    "# The first parameter is the host, where the MySQL database is located. \n",
    "# In our case it is a localhost, e.g. our computer. \n",
    "# The second parameter is the database user name. \n",
    "# It is followed by the user's account password. \n",
    "# The final parameter is the database name.\n",
    "host = '173.194.242.182'\n",
    "username = 'programize'\n",
    "password = 'scholar123!'\n",
    "database = 'citation_analysis_db'\n",
    "\n"
   ]
  },
  {
   "cell_type": "code",
   "execution_count": 2,
   "metadata": {
    "collapsed": false
   },
   "outputs": [],
   "source": [
    "def create_table():\n",
    "    table_name = 'h_index'\n",
    "    create_table_query = '''CREATE TABLE IF NOT EXISTS {0}.{1}\n",
    "                                    (author_id int, \n",
    "                                    year int, \n",
    "                                    h_index int,\n",
    "                                    PRIMARY KEY(author_id, year)\n",
    "                                    )'''.format(database, table_name)\n",
    "\n",
    "    con = mdb.connect(host, username, password, database, \n",
    "                    charset='utf8', use_unicode=True);\n",
    "    cursor = con.cursor()\n",
    "    cursor.execute(create_table_query)\n",
    "    cursor.close()\n",
    "    con.close()"
   ]
  },
  {
   "cell_type": "code",
   "execution_count": null,
   "metadata": {
    "collapsed": false
   },
   "outputs": [],
   "source": [
    "def fetch_author_data_from_db(authorid):\n",
    "    con = mdb.connect(host, username, password, database, \n",
    "                charset='utf8', use_unicode=True);\n",
    "\n",
    "    sql_query_template = '''SELECT P.publication_id, Y.year, Y.citations\n",
    "                            FROM author A INNER JOIN \n",
    "                                 author_publication P ON A.id=P.author_id INNER JOIN\n",
    "                                 publication_citations_per_year Y ON P.publication_id = Y.publication_id\n",
    "                            WHERE id = {0}\n",
    "                            ORDER BY A.id, Y.year'''\n",
    "    sql_query = sql_query_template.format(authorid)\n",
    "    \n",
    "    cur = con.cursor(mdb.cursors.DictCursor)\n",
    "    cur.execute(sql_query)\n",
    "    rows = cur.fetchall()\n",
    "    cur.close()\n",
    "    con.close()\n",
    "    \n",
    "    \n",
    "\n",
    "    return rows"
   ]
  },
  {
   "cell_type": "code",
   "execution_count": null,
   "metadata": {
    "collapsed": true
   },
   "outputs": [],
   "source": [
    "def get_author_data(authorid):\n",
    "    rows = fetch_author_data_from_db(authorid)\n",
    "    if len(rows)==0:\n",
    "        return None\n",
    "    df = pd.DataFrame(list(rows)).pivot(index='year', columns='publication_id', values='citations').cumsum().fillna(method='ffill').T\n",
    "    return df;"
   ]
  },
  {
   "cell_type": "code",
   "execution_count": null,
   "metadata": {
    "collapsed": false
   },
   "outputs": [],
   "source": [
    "def get_h_index(df, year, min_h):\n",
    "    citations = df[year]\n",
    "    h = min_h\n",
    "    while True:\n",
    "        num_pubs = len(sorted(citations[citations>=h]))\n",
    "        if num_pubs>=h:\n",
    "            h = h+1\n",
    "        else:\n",
    "            break\n",
    "    return h-1"
   ]
  },
  {
   "cell_type": "code",
   "execution_count": null,
   "metadata": {
    "collapsed": true
   },
   "outputs": [],
   "source": [
    "def get_h_index_history(df):\n",
    "    result = []\n",
    "    h_index = 0\n",
    "    years = sorted(set(df.columns.values))\n",
    "    for year in years:\n",
    "        h_year =  get_h_index(df, year, h_index)\n",
    "        h_index = h_year\n",
    "        result.append(  {'year': year, 'h-index': h_year } )\n",
    "    return result"
   ]
  },
  {
   "cell_type": "code",
   "execution_count": null,
   "metadata": {
    "collapsed": false
   },
   "outputs": [],
   "source": [
    "def insert_line_into_db(con, database, table_name, authorid, year, h_index):\n",
    "    insert_query_template = '''INSERT IGNORE INTO {db}.{table}(author_id, year, h_index) VALUES ({author_id}, {year_value}, {h_index_value})'''\n",
    "    insert_query = insert_query_template.format(db=database, table=table_name, author_id=authorid, year_value=year, h_index_value=h_index) \n",
    "    cursor = con.cursor()\n",
    "    cursor.execute(insert_query)\n",
    "    cursor.close()\n"
   ]
  },
  {
   "cell_type": "code",
   "execution_count": null,
   "metadata": {
    "collapsed": false
   },
   "outputs": [],
   "source": [
    "def insert_author_into_db(authorid):\n",
    "    con = mdb.connect(host, username, password, database, \n",
    "                    charset='utf8', use_unicode=True)\n",
    "    table_name = 'h_index'\n",
    "    df = get_author_data(authorid)\n",
    "    if df is None:\n",
    "        return\n",
    "    results = get_h_index_history(df)\n",
    "    for row in results:\n",
    "        insert_line_into_db(con, database, table_name, authorid, row[\"year\"], row[\"h-index\"])\n",
    "    con.commit()\n",
    "    con.close()  "
   ]
  },
  {
   "cell_type": "code",
   "execution_count": null,
   "metadata": {
    "collapsed": true
   },
   "outputs": [],
   "source": [
    "def get_author_ids():\n",
    "    con = mdb.connect(host, username, password, database, \n",
    "                charset='utf8', use_unicode=True);\n",
    "\n",
    "    sql_query_template = '''SELECT id FROM citation_analysis_db.author WHERE scholar_id IS NOT NULL AND organization_id IS NOT NULL AND id NOT IN (SELECT author_id FROM h_index)'''\n",
    "    sql_query = sql_query_template\n",
    "    \n",
    "    cur = con.cursor(mdb.cursors.DictCursor)\n",
    "    cur.execute(sql_query)\n",
    "    rows = cur.fetchall()\n",
    "    cur.close()\n",
    "    con.close()\n",
    "    \n",
    "    return sorted([row[\"id\"] for row in rows])"
   ]
  },
  {
   "cell_type": "code",
   "execution_count": null,
   "metadata": {
    "collapsed": false
   },
   "outputs": [],
   "source": [
    "author_ids = get_author_ids()\n",
    "print(len(author_ids))\n",
    "for authorid in author_ids:\n",
    "    print(authorid)\n",
    "    insert_author_into_db(authorid)\n",
    "    "
   ]
  },
  {
   "cell_type": "code",
   "execution_count": null,
   "metadata": {
    "collapsed": true
   },
   "outputs": [],
   "source": []
  }
 ],
 "metadata": {
  "kernelspec": {
   "display_name": "Python 3",
   "language": "python",
   "name": "python3"
  },
  "language_info": {
   "codemirror_mode": {
    "name": "ipython",
    "version": 3
   },
   "file_extension": ".py",
   "mimetype": "text/x-python",
   "name": "python",
   "nbconvert_exporter": "python",
   "pygments_lexer": "ipython3",
   "version": "3.5.2"
  }
 },
 "nbformat": 4,
 "nbformat_minor": 0
}
