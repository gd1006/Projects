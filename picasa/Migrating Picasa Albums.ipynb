{
 "cells": [
  {
   "cell_type": "markdown",
   "metadata": {},
   "source": [
    "We start by installing the Google Developers Python client:\n",
    "\n",
    "`sudo pip install --upgrade google-api-python-client`\n",
    "\n",
    "(https://developers.google.com/api-client-library/python/start/installation)"
   ]
  },
  {
   "cell_type": "code",
   "execution_count": 15,
   "metadata": {
    "collapsed": false
   },
   "outputs": [
    {
     "name": "stdout",
     "output_type": "stream",
     "text": [
      "https://accounts.google.com/o/oauth2/auth?scope=https%3A%2F%2Fpicasaweb.google.com%2Fdata%2F&redirect_uri=http%3A%2F%2Fipython-panos.ipeirotis.com%3A5000%2Foauth2callback&response_type=code&client_id=61623328740-c1619c0d1vemj9kagupo6r7d154et8vs.apps.googleusercontent.com&access_type=offline\n"
     ]
    }
   ],
   "source": [
    "from oauth2client.client import flow_from_clientsecrets\n",
    "\n",
    "flow = flow_from_clientsecrets('picasa/client_secret.json',\n",
    "                               scope='https://picasaweb.google.com/data/',\n",
    "                               redirect_uri='http://ipython-panos.ipeirotis.com:5000/oauth2callback')\n",
    "\n",
    "auth_uri = flow.step1_get_authorize_url()\n",
    "print auth_uri"
   ]
  },
  {
   "cell_type": "code",
   "execution_count": 16,
   "metadata": {
    "collapsed": true
   },
   "outputs": [],
   "source": [
    "# In this cell, we just configure the server. We will start it, \n",
    "# using the command webserver.run(host='0.0.0.0') in the next cell\n",
    "\n",
    "# Flask is a webserver\n",
    "from flask import Flask, request\n",
    "\n",
    "# We will use that part to issue a request to Jawbone\n",
    "import requests\n",
    "import json\n",
    "\n",
    "# To get the server to run in the background\n",
    "import threading\n",
    "\n",
    "# This part is required to come up with the pop-up with which Google will ask for permissions\n",
    "from IPython.display import display\n",
    "from IPython.display import Javascript as JS\n",
    "\n",
    "# This is used to store the credentials to the filesystem\n",
    "from oauth2client.file import Storage\n",
    "storage = Storage('picasa/credentials.json')\n",
    "\n",
    "# Initialize the embedded web server\n",
    "webserver = Flask(\"PicasaOAuth\")\n",
    "\n",
    "# The function below will implement the sole functionality of our server.\n",
    "# The Jawbone API will first authenticate the user and then direct the browser\n",
    "# to http://<your ip>:5000/receiveCode in order to send the code to the app.\n",
    "# \n",
    "# This is the place where the webserver will receive the call from Jawbone\n",
    "# with the authentication code (Step 3 in https://jawbone.com/up/developer/authentication)\n",
    "# Notice that we will use the http://<your ip>:5000/receiveCode address below as the redirect URI \n",
    "@webserver.route(\"/oauth2callback\")\n",
    "def oauth_helper():\n",
    "    code = request.args.get('code')\n",
    "    credentials = flow.step2_exchange(code)\n",
    "    storage.put(credentials)\n",
    "\n",
    "\n",
    "    \n",
    "    \n",
    "    # It is safe (and convenient) to shut down the web server after this request\n",
    "    stop_server()\n",
    "    \n",
    "    # What we return here has no real impact on the functionality of the code\n",
    "    return '<html><body>Code: <b>'+code+'</b></body></html>'\n",
    "\n",
    "\n",
    "def start_server():\n",
    "    webserver.run(host='0.0.0.0', port=5000)\n",
    "    return\n",
    "    \n",
    "def stop_server():\n",
    "    shutdown_after_request = request.environ.get('werkzeug.server.shutdown')\n",
    "    shutdown_after_request()\n",
    "    return\n",
    "    "
   ]
  },
  {
   "cell_type": "code",
   "execution_count": 17,
   "metadata": {
    "collapsed": false
   },
   "outputs": [
    {
     "data": {
      "application/javascript": [
       "window.open('https://accounts.google.com/o/oauth2/auth?scope=https%3A%2F%2Fpicasaweb.google.com%2Fdata%2F&redirect_uri=http%3A%2F%2Fipython-panos.ipeirotis.com%3A5000%2Foauth2callback&response_type=code&client_id=61623328740-c1619c0d1vemj9kagupo6r7d154et8vs.apps.googleusercontent.com&access_type=offline')"
      ],
      "text/plain": [
       "<IPython.core.display.Javascript object>"
      ]
     },
     "metadata": {},
     "output_type": "display_data"
    }
   ],
   "source": [
    "import threading\n",
    "\n",
    "# The code below is necessary to pop up the login window from Jawbone\n",
    "# The login still start in a separate thread, in order to allow the execution\n",
    "# to continue, and run the \"start_server()\" call below.\n",
    "threading.Timer(1, lambda: display(JS(\"window.open('%s')\" % auth_uri))).start()\n",
    "\n",
    "# And now start the webserver so that we can receive the answer from Google API\n",
    "start_server()"
   ]
  },
  {
   "cell_type": "code",
   "execution_count": 18,
   "metadata": {
    "collapsed": false
   },
   "outputs": [
    {
     "ename": "NameError",
     "evalue": "name 'code' is not defined",
     "output_type": "error",
     "traceback": [
      "\u001b[1;31m---------------------------------------------------------------------------\u001b[0m",
      "\u001b[1;31mNameError\u001b[0m                                 Traceback (most recent call last)",
      "\u001b[1;32m<ipython-input-18-d71609fa6656>\u001b[0m in \u001b[0;36m<module>\u001b[1;34m()\u001b[0m\n\u001b[1;32m----> 1\u001b[1;33m \u001b[0mcredentials\u001b[0m \u001b[1;33m=\u001b[0m \u001b[0mflow\u001b[0m\u001b[1;33m.\u001b[0m\u001b[0mstep2_exchange\u001b[0m\u001b[1;33m(\u001b[0m\u001b[0mcode\u001b[0m\u001b[1;33m)\u001b[0m\u001b[1;33m\u001b[0m\u001b[0m\n\u001b[0m",
      "\u001b[1;31mNameError\u001b[0m: name 'code' is not defined"
     ]
    }
   ],
   "source": [
    "import httplib2\n",
    "from apiclient.discovery import build\n",
    "\n",
    "# Read the credentials from the file\n",
    "credentials = storage.get()        \n",
    "http = httplib2.Http()\n",
    "http = credentials.authorize(http)\n",
    "service = build('calendar', 'v3', http=http)"
   ]
  },
  {
   "cell_type": "code",
   "execution_count": null,
   "metadata": {
    "collapsed": true
   },
   "outputs": [],
   "source": [
    "\n",
    "\n"
   ]
  }
 ],
 "metadata": {
  "kernelspec": {
   "display_name": "Python 2",
   "language": "python",
   "name": "python2"
  },
  "language_info": {
   "codemirror_mode": {
    "name": "ipython",
    "version": 2
   },
   "file_extension": ".py",
   "mimetype": "text/x-python",
   "name": "python",
   "nbconvert_exporter": "python",
   "pygments_lexer": "ipython2",
   "version": "2.7.6"
  }
 },
 "nbformat": 4,
 "nbformat_minor": 0
}
