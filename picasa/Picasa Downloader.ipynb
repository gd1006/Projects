{
 "cells": [
  {
   "cell_type": "code",
   "execution_count": null,
   "metadata": {
    "collapsed": false
   },
   "outputs": [],
   "source": [
    "import gdata.photos.service\n",
    "import gdata.media\n",
    "import gdata.geo\n",
    "\n",
    "import os\n",
    "\n",
    "import oauth2client\n",
    "\n",
    "import httplib2\n",
    "\n",
    "from oauth2client.client import flow_from_clientsecrets\n",
    "from oauth2client.file import Storage\n",
    "\n",
    "import threading\n",
    "\n",
    "import datetime\n",
    "\n",
    "# This part is required to come up with the pop-up with which Jawbone will ask for permissions\n",
    "from IPython.display import display\n",
    "from IPython.display import Javascript as JS\n",
    "\n",
    "import requests\n",
    "import os\n",
    "\n",
    "def OAuth2Login(client_secrets, credential_store, email):\n",
    "    scope='https://picasaweb.google.com/data/'\n",
    "    user_agent='PicasaMigrator'\n",
    "\n",
    "    storage = Storage(credential_store)\n",
    "    credentials = storage.get()\n",
    "    if credentials is None or credentials.invalid:\n",
    "        flow = flow_from_clientsecrets(client_secrets, scope=scope, redirect_uri='urn:ietf:wg:oauth:2.0:oob')\n",
    "        uri = flow.step1_get_authorize_url()\n",
    "        \n",
    "        threading.Timer(1, lambda: display(JS(\"window.open('%s')\" % uri))).start()\n",
    "\n",
    "        code = raw_input('Enter the authentication code: ').strip()\n",
    "        credentials = flow.step2_exchange(code)\n",
    "        storage.put(credentials)\n",
    "\n",
    "    if (credentials.token_expiry - datetime.datetime.utcnow()) < datetime.timedelta(minutes=5):\n",
    "        http = httplib2.Http()\n",
    "        http = credentials.authorize(http)\n",
    "        credentials.refresh(http)\n",
    "\n",
    "    gd_client = gdata.photos.service.PhotosService(source=user_agent,\n",
    "                                               email=email,\n",
    "                                               additional_headers={'Authorization' : 'Bearer %s' % credentials.access_token})\n",
    "\n",
    "    return gd_client\n",
    "\n",
    "\n",
    "# Downloads all the photos in the album ALBUM_ID to the specified DIRECTORY, with full resolution\n",
    "def download_album(gd_client, album_id, directory):\n",
    "    \n",
    "    if not os.path.exists(directory):\n",
    "        os.makedirs(directory)\n",
    "   \n",
    "    # The imgmax=d indicates that we want the original photos\n",
    "    photos = gd_client.GetFeed('/data/feed/api/user/default/albumid/%s?&imgmax=d' % (album_id))\n",
    "    \n",
    "    count = 1;\n",
    "    for photo in photos.entry:\n",
    "        download_file(photo, directory, str(count))\n",
    "        count += 1\n",
    "\n",
    "# Returns the proper URL for the media file (e.g. the highest resolution video for a video file)\n",
    "def get_entry(photo):\n",
    "    \"\"\n",
    "    \n",
    "    result = photo.media.content[0]\n",
    "    for entry in photo.media.content:\n",
    "        if entry.medium==\"video\" and result.medium==\"video\":\n",
    "            if int(result.width)<int(entry.width):\n",
    "                result = entry\n",
    "        if entry.medium==\"video\" and result.medium==\"image\":\n",
    "            result = entry\n",
    "            \n",
    "    return result\n",
    "\n",
    "\n",
    "def download_file(photo, directory, index):\n",
    "    \"Download the data at URL to the current directory.\"\n",
    "    #print \"============\", photo.gphoto_id.text, \"===============\"\n",
    "    \n",
    "    entry = get_entry(photo)\n",
    "    url = entry.url\n",
    "    \n",
    "    extension = entry.type[entry.type.rindex('/') + 1:]\n",
    "    basename = index + '.' + extension\n",
    "    \n",
    "    metadata = os.path.join(directory,index+\".xml\")\n",
    "    #print metadata\n",
    "    with open(metadata,'wb') as f:\n",
    "        f.write(entry.ToString())\n",
    "    \n",
    "    filename = os.path.join(directory,basename)\n",
    "    #print filename\n",
    "    if os.path.exists(filename):\n",
    "        print \"+\",\n",
    "        #print \"Cached: %s\" % (basename,)\n",
    "        return\n",
    "    \n",
    "    \n",
    "    #print \"Downloading %s\" % (basename)\n",
    "    #print url\n",
    "    print \".\",\n",
    "    r = requests.get(url)\n",
    "\n",
    "    with open(filename,'wb') as f:\n",
    "        f.write(r.content)\n",
    "\n",
    "    \n",
    "email = 'gregory@ipeirotis.com'\n",
    "configdir = os.path.expanduser('/scratch/picasa')\n",
    "client_secrets = os.path.join(configdir, 'client_secret.json')\n",
    "credential_store = os.path.join(configdir, 'credentials.dat')\n",
    "gd_client_source = OAuth2Login(client_secrets, credential_store, email)\n",
    "\n",
    "albums = gd_client_source.GetUserFeed()\n",
    "\n",
    "cnt=1\n",
    "s = len(albums.entry)\n",
    "for album in albums.entry:\n",
    "    \n",
    "    \n",
    "    album_title = album.title.text\n",
    "    directory = os.path.join(configdir,  album_title + ' ' + album.gphoto_id.text)\n",
    "    \n",
    "    print '\\n', cnt, '/', s, '. Album: %s (%s) [%s]' % (album_title, album.numphotos.text,  album.gphoto_id.text)\n",
    "    cnt = cnt+1\n",
    "\n",
    "    download_album(gd_client_source, album.gphoto_id.text, directory)\n"
   ]
  },
  {
   "cell_type": "code",
   "execution_count": 9,
   "metadata": {
    "collapsed": false
   },
   "outputs": [
    {
     "name": "stdout",
     "output_type": "stream",
     "text": [
      "\n"
     ]
    }
   ],
   "source": [
    "xmlfiles = !find /scratch/picasa -type f -name '*.xml'"
   ]
  },
  {
   "cell_type": "code",
   "execution_count": 10,
   "metadata": {
    "collapsed": false
   },
   "outputs": [
    {
     "data": {
      "text/plain": [
       "5541"
      ]
     },
     "execution_count": 10,
     "metadata": {},
     "output_type": "execute_result"
    }
   ],
   "source": [
    "len(xmlfiles)"
   ]
  },
  {
   "cell_type": "code",
   "execution_count": 14,
   "metadata": {
    "collapsed": false
   },
   "outputs": [
    {
     "name": "stdout",
     "output_type": "stream",
     "text": [
      "set(['image/gif', 'video/mpeg4', 'image/jpeg'])\n"
     ]
    }
   ],
   "source": [
    "from lxml import etree\n",
    "\n",
    "\n",
    "types = set()\n",
    "for f in xmlfiles:\n",
    "\n",
    "    # Read the file\n",
    "    filecontent = open(f, \"r\").read()\n",
    "    #print filecontent\n",
    "    \n",
    "    doc  = etree.XML(filecontent)\n",
    "    t = doc.xpath(\"/*[local-name()='content']\")[0].get(\"type\")\n",
    "    types.add(t)\n",
    "    \n",
    "print types"
   ]
  },
  {
   "cell_type": "code",
   "execution_count": null,
   "metadata": {
    "collapsed": true
   },
   "outputs": [],
   "source": []
  }
 ],
 "metadata": {
  "kernelspec": {
   "display_name": "Python 2",
   "language": "python",
   "name": "python2"
  },
  "language_info": {
   "codemirror_mode": {
    "name": "ipython",
    "version": 2
   },
   "file_extension": ".py",
   "mimetype": "text/x-python",
   "name": "python",
   "nbconvert_exporter": "python",
   "pygments_lexer": "ipython2",
   "version": "2.7.6"
  }
 },
 "nbformat": 4,
 "nbformat_minor": 0
}
