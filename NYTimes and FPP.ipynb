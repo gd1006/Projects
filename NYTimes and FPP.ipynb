{
 "cells": [
  {
   "cell_type": "code",
   "execution_count": null,
   "metadata": {
    "collapsed": false
   },
   "outputs": [],
   "source": [
    "import requests # This command allows us to fetch URLs\n",
    "from lxml import html # This module will allow us to parse the returned HTML/XML\n",
    "import pandas # To create a dataframe\n",
    "import json\n",
    "\n",
    "# Let's start by fetching the page, and parsing it\n",
    "url = \"http://www.nytimes.com/\"\n",
    "response = requests.get(url) # get the html of that url\n",
    "doc = html.fromstring(response.text) # parse it and create a document\n",
    "\n",
    "images =  [img.get(\"src\") for img in doc.findall(\".//img\")]\n",
    "\n",
    "headers = {\n",
    "  \"X-Mashape-Key\": \"tW57vO1fzDmshmfkjHDH8RH4dtkbp1kaN99jsnw3OVCzQJRPc7\",\n",
    "  \"Accept\": \"application/json\"\n",
    "}\n",
    "params = {\n",
    "    'attribute': \"glass,pose,gender,age,race,smiling\",\n",
    "    'url': \"\",\n",
    "    'api_key': \"03380a60afec623a38681aaa5675dba0\",\n",
    "    'api_secret': \"ukp1tT2_JUjS5kLF_j9h_wZrYZ1tIj-u\"\n",
    "}\n",
    "\n",
    "fpp_endpoint = \"https://faceplusplus-faceplusplus.p.mashape.com/detection/detect\"\n",
    "for img in images:\n",
    "    params[\"url\"] = img\n",
    "    resp = requests.get(fpp_endpoint, params=params, headers=headers)\n",
    "    data = json.loads(resp.text)\n",
    "    print data\n",
    "    \n"
   ]
  },
  {
   "cell_type": "code",
   "execution_count": null,
   "metadata": {
    "collapsed": false
   },
   "outputs": [],
   "source": []
  }
 ],
 "metadata": {
  "kernelspec": {
   "display_name": "Python 2",
   "language": "python",
   "name": "python2"
  },
  "language_info": {
   "codemirror_mode": {
    "name": "ipython",
    "version": 2
   },
   "file_extension": ".py",
   "mimetype": "text/x-python",
   "name": "python",
   "nbconvert_exporter": "python",
   "pygments_lexer": "ipython2",
   "version": "2.7.6"
  }
 },
 "nbformat": 4,
 "nbformat_minor": 0
}
