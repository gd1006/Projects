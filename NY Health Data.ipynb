{
 "metadata": {
  "name": "",
  "signature": "sha256:935ed4f4eb7340c1fe0a0944e4e63beb42bb23b0a6aebb90e21c646f4b1c869c"
 },
 "nbformat": 3,
 "nbformat_minor": 0,
 "worksheets": [
  {
   "cells": [
    {
     "cell_type": "code",
     "collapsed": false,
     "input": [
      "import pandas as pd\n",
      "\n",
      "discharges = pd.read_csv(\"/home/ubuntu/data/hospital-discharges.csv\", dtype=unicode, encoding=\"utf-8\")"
     ],
     "language": "python",
     "metadata": {},
     "outputs": [],
     "prompt_number": 1
    },
    {
     "cell_type": "code",
     "collapsed": false,
     "input": [
      "discharges[\"Facility Name\"].value_counts()"
     ],
     "language": "python",
     "metadata": {},
     "outputs": [
      {
       "metadata": {},
       "output_type": "pyout",
       "prompt_number": 11,
       "text": [
        "Mount Sinai Hospital                                            58732\n",
        "North Shore University Hospital                                 51863\n",
        "New York Presbyterian Hospital - Columbia Presbyterian Center    50090\n",
        "New York Presbyterian Hospital - New York Weill Cornell Center    47417\n",
        "Beth Israel Medical Center/Petrie Campus                        46506\n",
        "Maimonides Medical Center                                       44578\n",
        "Montefiore Medical Center - Henry & Lucy Moses Div              43657\n",
        "Strong Memorial Hospital                                        40846\n",
        "Long Island Jewish Medical Center                               38535\n",
        "New York Methodist Hospital                                     38321\n",
        "New York Hospital Medical Center   of Queens                    35246\n",
        "Staten Island University Hosp-North                             34795\n",
        "Winthrop-University Hospital                                    34741\n",
        "University Hospital                                             34737\n",
        "Albany Medical Center Hospital                                  32845\n",
        "...\n",
        "Sheehan Memorial Hospital                                       265\n",
        "Margaretville Hospital                                          257\n",
        "O'Connor Hospital                                               245\n",
        "St. Mary's Healthcare - Amsterdam Memorial Campus               196\n",
        "Catskill Regional Medical Center - G. Hermann Site              179\n",
        "Moses-Ludington Hospital                                        176\n",
        "Cuba Memorial Hospital Inc                                      139\n",
        "River Hospital, Inc.                                            131\n",
        "Westfield Memorial Hospital Inc                                 115\n",
        "Clifton-Fine Hospital                                           100\n",
        "Albany Medical Center - South Clinical Campus                    29\n",
        "Monroe Community Hospital                                        24\n",
        "Coler-Goldwater Specialty Hospital & Nursing Facility - Coler Hospital     21\n",
        "HealthAlliance Hospital Mary's Avenue Campus                      2\n",
        "HealthAlliance Hospital Broadway Campus                           1\n",
        "Length: 226, dtype: int64"
       ]
      }
     ],
     "prompt_number": 11
    },
    {
     "cell_type": "code",
     "collapsed": false,
     "input": [],
     "language": "python",
     "metadata": {},
     "outputs": []
    }
   ],
   "metadata": {}
  }
 ]
}
