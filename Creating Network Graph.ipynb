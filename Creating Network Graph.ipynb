{
 "cells": [
  {
   "cell_type": "markdown",
   "metadata": {},
   "source": [
    "### TODO: Quite likely, the whole process can be written as a HQL query on Hive"
   ]
  },
  {
   "cell_type": "code",
   "execution_count": null,
   "metadata": {
    "collapsed": false
   },
   "outputs": [],
   "source": [
    "import pandas as pd\n",
    "\n",
    "# The tcparticipants.tsv is just a dump of the corresponding Hive table\n",
    "df = pd.read_csv(\"data/tcparticipants.tsv\", sep=\"\\t\", header=2,  skip_blank_lines=True,\n",
    "                names=[\"message_id\", \"participant_id\", \"participant_address\", \"participant_username\", \"int_ext\", \"part_type\"])\n",
    "df[\"part_type\"] = map( lambda x : str(x).strip(), df[\"part_type\"])"
   ]
  },
  {
   "cell_type": "code",
   "execution_count": null,
   "metadata": {
    "collapsed": false
   },
   "outputs": [],
   "source": [
    "df.head()"
   ]
  },
  {
   "cell_type": "code",
   "execution_count": null,
   "metadata": {
    "collapsed": false
   },
   "outputs": [],
   "source": [
    "# We limit ourselves now to internal senders\n",
    "query = 'part_type == \"S\" and int_ext == \"I\"'\n",
    "sender = df.query(query).copy()\n",
    "sender.head(5)"
   ]
  },
  {
   "cell_type": "code",
   "execution_count": null,
   "metadata": {
    "collapsed": false
   },
   "outputs": [],
   "source": [
    "# We limit ourselves now to internal recipients\n",
    "query = '(part_type == \"R-CC\" | part_type == \"R-TO\" | part_type == \"R-BCC\" | part_type == \"R-unknown\") and int_ext == \"I\"'\n",
    "recipient = df.query(query).copy()\n",
    "recipient.head(5)"
   ]
  },
  {
   "cell_type": "code",
   "execution_count": null,
   "metadata": {
    "collapsed": false
   },
   "outputs": [],
   "source": [
    "# Count the number of recipients for each message\n",
    "num_participants = pd.DataFrame(recipient.groupby('message_id').size(), columns=[\"cnt\"])\n",
    "num_participants.head(5)"
   ]
  },
  {
   "cell_type": "code",
   "execution_count": null,
   "metadata": {
    "collapsed": false
   },
   "outputs": [],
   "source": [
    "# We replace the sender/recipients with anonymized ids\n",
    "s_nodes = sender[\"participant_address\"]\n",
    "r_nodes = recipient[\"participant_address\"]\n",
    "nodes = set(s_nodes) | set(r_nodes)\n",
    "hashing = dict()\n",
    "for n in nodes:\n",
    "    hashing[n] = str(len(hashing)).zfill(6)\n",
    "    \n",
    "sender[\"participant_address\"] = map(lambda x: hashing[x], sender[\"participant_address\"])\n",
    "recipient[\"participant_address\"] = map(lambda x: hashing[x], recipient[\"participant_address\"])"
   ]
  },
  {
   "cell_type": "code",
   "execution_count": null,
   "metadata": {
    "collapsed": false
   },
   "outputs": [],
   "source": [
    "# Drop unecessary columns\n",
    "sender.drop([\"participant_id\", \"participant_username\", \"int_ext\", \"part_type\"],inplace=True,axis=1)\n",
    "recipient.drop([\"participant_id\", \"participant_username\", \"int_ext\", \"part_type\"],inplace=True,axis=1)"
   ]
  },
  {
   "cell_type": "code",
   "execution_count": null,
   "metadata": {
    "collapsed": true
   },
   "outputs": [],
   "source": [
    "# Let's build an index for speed\n",
    "sender.set_index([\"message_id\"], inplace=True)\n",
    "sender = sender.sortlevel().sortlevel(axis=1)\n",
    "\n",
    "# Not sure if we need this index\n",
    "# tuples = [tuple(x) for x in recipient[['message_id', 'participant_id']].to_records(index=False)]\n",
    "# index = pd.MultiIndex.from_tuples(tuples, names=['message_id', 'participant_id'])\n",
    "# recipient.set_index(index, inplace=True)\n",
    "# recipient = recipient.sortlevel().sortlevel(axis=1)"
   ]
  },
  {
   "cell_type": "code",
   "execution_count": null,
   "metadata": {
    "collapsed": false
   },
   "outputs": [],
   "source": [
    "# We want now to join three tables: sender, recipient, num_participants\n",
    "# in order to calculate the \"normalized\" number of messages from node A to B\n",
    "# We normalize by counting a message sent to n recipients to count as 1/n of a message\n",
    "\n",
    "# Joins sender with number_of_participants\n",
    "sender_count = pd.merge(sender, num_participants, left_index=True, right_index=True)\n",
    "\n",
    "# Joins with recipients\n",
    "sender_recipient = pd.merge(sender_count, recipient, left_index=True, right_on=[\"message_id\"])\n",
    "\n",
    "# We group by \"sender, participant, number_of_people_in_recipients, count_of_such_messages\"\n",
    "# In this case, the tuple \"A, B, K, N\" means that A send to B a total of N messages in which there were exactly K recipients\n",
    "grouped_by = sender_recipient.groupby(['participant_address_x', 'participant_address_y', 'cnt']).size()\n",
    "\n",
    "# We now normalize the messages received by the number of recipients\n",
    "# If B received from A: m1 messages with n1 recipients, m2 messages with n2 recipients, etc \n",
    "# then ===> total = m1/n1 + m2/n2 + m3/n3 + ...\n",
    "counts_normalized = pd.DataFrame([(index[0], index[1], 1.0*value/index[2]) for index, value in grouped_by.iteritems()], columns=[\"sender\", \"recipient\", \"total\"])\n",
    "normalized_message_count = pd.DataFrame(counts_normalized.groupby([\"sender\", \"recipient\"]).sum())\n"
   ]
  },
  {
   "cell_type": "code",
   "execution_count": null,
   "metadata": {
    "collapsed": false
   },
   "outputs": [],
   "source": [
    "# We just flatten the dataframe\n",
    "msg_counts = [(index[0], index[1], value[0]) for index, value in normalized_message_count.iterrows()]"
   ]
  },
  {
   "cell_type": "code",
   "execution_count": null,
   "metadata": {
    "collapsed": false
   },
   "outputs": [],
   "source": [
    "final_df =  pd.DataFrame(msg_counts, columns=[\"sender\", \"recipient\", \"total\"])\n",
    "final_df.sort_values(by=['total'], ascending=False, inplace=True)\n",
    "final_df.head(5)"
   ]
  },
  {
   "cell_type": "code",
   "execution_count": null,
   "metadata": {
    "collapsed": false
   },
   "outputs": [],
   "source": [
    "final_df.to_csv(\"data/msg_counts.csv\", index=False, sep='\\t')"
   ]
  },
  {
   "cell_type": "code",
   "execution_count": null,
   "metadata": {
    "collapsed": false
   },
   "outputs": [],
   "source": [
    "for k,v in hashing.iteritems():\n",
    "    if (v == '033618' or v =='021950' or v == '037821' or v == '019117'):\n",
    "        print k,v\n",
    "    "
   ]
  },
  {
   "cell_type": "code",
   "execution_count": null,
   "metadata": {
    "collapsed": true
   },
   "outputs": [],
   "source": []
  }
 ],
 "metadata": {
  "kernelspec": {
   "display_name": "Python 2",
   "language": "python",
   "name": "python2"
  },
  "language_info": {
   "codemirror_mode": {
    "name": "ipython",
    "version": 2
   },
   "file_extension": ".py",
   "mimetype": "text/x-python",
   "name": "python",
   "nbconvert_exporter": "python",
   "pygments_lexer": "ipython2",
   "version": "2.7.6"
  }
 },
 "nbformat": 4,
 "nbformat_minor": 0
}
