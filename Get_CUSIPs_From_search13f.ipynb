{
 "cells": [
  {
   "cell_type": "markdown",
   "metadata": {},
   "source": [
    "Other sources of data:\n",
    "* http://eoddata.com/register.aspx\n",
    "* barchart, databull, esignal, iqfeed, iris, mtpredictor, primate, prophet.net, qcollector, quotesplus, reuters, thinkorswim, tradeguider, tradestation, trading-tools.com, wealthlab pro (fidelity), yahoo finance"
   ]
  },
  {
   "cell_type": "code",
   "execution_count": null,
   "metadata": {
    "collapsed": false
   },
   "outputs": [],
   "source": [
    "import requests\n",
    "import json\n",
    "\n",
    "url = \"https://search13f.com/api/cusip/screener\"\n",
    "\n",
    "\n",
    "headers = {\n",
    "    \"Content-Type\":\"application/x-www-form-urlencoded; charset=UTF-8\",\n",
    "\"Cookie\": {\"sessionid\":\"gid7fvk5kd2r7ylzizz82qc37m515ull\",\n",
    "           \"csrftoken\":\"TbAgC5RQRksPo0JO7QYEjntqk6eQxPcR\",\n",
    "           \"_ga\":\"GA1.2.287848159.1484431024\"},\n",
    "\"DNT\":\"1\",\n",
    "\"Host\":\"search13f.com\",\n",
    "\"Origin\":\"https://search13f.com\",\n",
    "\"Referer\":\"https://search13f.com/screener\",\n",
    "}\n",
    "    \n",
    "\n"
   ]
  },
  {
   "cell_type": "code",
   "execution_count": null,
   "metadata": {
    "collapsed": false
   },
   "outputs": [],
   "source": [
    "import time\n",
    "\n",
    "results = []\n",
    "\n",
    "for p in range(1,610):\n",
    "    print(p)\n",
    "    \n",
    "    post_data = {\n",
    "    \"page\":p,\n",
    "    \"per_page\":20,\n",
    "    \"sort_by\":\"name\",\n",
    "    \"query_parameters\": '{\"sliders\":{\"percentile_change_last_quarter_totalShares_relative\":{\"min\":-100,\"max\":4033310.989},\"percentile_current_totalValue\":{\"min\":1,\"max\":331567521},\"percentile_current_avgPrice\":{\"min\":0.001,\"max\":1530000},\"percentile_turnover\":{\"min\":0,\"max\":100},\"percentile_change_last_quarter_avgPrice_relative\":{\"min\":-99.955,\"max\":2617233.333}},\"has_symbol\":false,\"sector\":\"Any\"}'}\n",
    "\n",
    "    resp = requests.post(url, data = post_data, cookies=cookie)\n",
    "    data = resp.json()\n",
    "    results.extend(data[\"data\"])\n",
    "    time.sleep(1)\n"
   ]
  },
  {
   "cell_type": "code",
   "execution_count": null,
   "metadata": {
    "collapsed": false
   },
   "outputs": [],
   "source": [
    "import pandas\n",
    "\n",
    "df = pandas.DataFrame(results)\n",
    "cols_to_drop = [0,1,2,3,4,5,11]\n",
    "\n",
    "df.drop(df.columns[cols_to_drop], axis=1, inplace=True)\n",
    "df"
   ]
  },
  {
   "cell_type": "code",
   "execution_count": null,
   "metadata": {
    "collapsed": false
   },
   "outputs": [],
   "source": [
    "df.to_csv(\"cusips.csv\", sep='\\t', encoding='utf-8')"
   ]
  },
  {
   "cell_type": "code",
   "execution_count": 2,
   "metadata": {
    "collapsed": false
   },
   "outputs": [],
   "source": [
    "import pandas as pd\n",
    "\n",
    "df = pd.read_csv(\"cusips.csv\", sep='\\t')\n",
    "df.drop(df.columns[[0]], inplace=True,axis=1)\n"
   ]
  },
  {
   "cell_type": "code",
   "execution_count": 3,
   "metadata": {
    "collapsed": false
   },
   "outputs": [
    {
     "ename": "NameError",
     "evalue": "name 'pandas' is not defined",
     "output_type": "error",
     "traceback": [
      "\u001b[0;31m---------------------------------------------------------------------------\u001b[0m\n\u001b[0;31mNameError\u001b[0m                                 Traceback (most recent call last)",
      "\u001b[0;32m<ipython-input-3-0543d9dda05c>\u001b[0m in \u001b[0;36m<module>\u001b[0;34m()\u001b[0m\n\u001b[1;32m     24\u001b[0m             \u001b[0mentry\u001b[0m \u001b[0;34m=\u001b[0m \u001b[0;34m{\u001b[0m\u001b[0;34m\"cusip\"\u001b[0m\u001b[0;34m:\u001b[0m \u001b[0mcusip\u001b[0m\u001b[0;34m,\u001b[0m\u001b[0;34m\"name\"\u001b[0m\u001b[0;34m:\u001b[0m \u001b[0mname\u001b[0m\u001b[0;34m,\u001b[0m\u001b[0;34m\"stocksymbol\"\u001b[0m\u001b[0;34m:\u001b[0m\u001b[0mstocksymbol\u001b[0m\u001b[0;34m,\u001b[0m \u001b[0;34m\"synonym\"\u001b[0m\u001b[0;34m:\u001b[0m \u001b[0msynonym\u001b[0m\u001b[0;34m}\u001b[0m\u001b[0;34m\u001b[0m\u001b[0m\n\u001b[1;32m     25\u001b[0m             \u001b[0mresult\u001b[0m\u001b[0;34m.\u001b[0m\u001b[0mappend\u001b[0m\u001b[0;34m(\u001b[0m \u001b[0mentry\u001b[0m \u001b[0;34m)\u001b[0m\u001b[0;34m\u001b[0m\u001b[0m\n\u001b[0;32m---> 26\u001b[0;31m \u001b[0mdf2\u001b[0m \u001b[0;34m=\u001b[0m \u001b[0mpandas\u001b[0m\u001b[0;34m.\u001b[0m\u001b[0mDataFrame\u001b[0m\u001b[0;34m(\u001b[0m\u001b[0mresults\u001b[0m\u001b[0;34m)\u001b[0m\u001b[0;34m\u001b[0m\u001b[0m\n\u001b[0m",
      "\u001b[0;31mNameError\u001b[0m: name 'pandas' is not defined"
     ]
    }
   ],
   "source": [
    "import requests \n",
    "import urllib\n",
    "\n",
    "result = list()\n",
    "base = \"http://wikisynonyms.ipeirotis.com/api/\"\n",
    "for i, row in df[pd.isnull(df[\"stocksymbol\"])==False].iterrows():\n",
    "    cusip = row[\"cusip\"]\n",
    "    name = row[\"name\"]\n",
    "    stocksymbol = row[\"stocksymbol\"]\n",
    "\n",
    "    try:\n",
    "        url = base + urllib.parse.quote(name)\n",
    "        resp = requests.get(url)\n",
    "    except:\n",
    "        print(\"ERROR:\", url)\n",
    "        continue\n",
    "    if (resp.status_code==204 or resp.status_code==404):\n",
    "        continue\n",
    "        \n",
    "    data = resp.json()\n",
    "    if len(data[\"terms\"])>0:\n",
    "        synonyms = [entry[\"term\"] for entry in data[\"terms\"]]\n",
    "        for synonym in synonyms:\n",
    "            entry = {\"cusip\": cusip,\"name\": name,\"stocksymbol\":stocksymbol, \"synonym\": synonym}\n",
    "            result.append( entry )\n"
   ]
  },
  {
   "cell_type": "code",
   "execution_count": 7,
   "metadata": {
    "collapsed": false
   },
   "outputs": [],
   "source": [
    "df2 = pd.DataFrame(result)\n",
    "df2.to_csv(\"cusips-synonyms.csv\", sep='\\t', encoding='utf-8')"
   ]
  },
  {
   "cell_type": "code",
   "execution_count": null,
   "metadata": {
    "collapsed": true
   },
   "outputs": [],
   "source": []
  }
 ],
 "metadata": {
  "kernelspec": {
   "display_name": "Python 3",
   "language": "python",
   "name": "python3"
  },
  "language_info": {
   "name": "python",
   "version": "3.5.2"
  }
 },
 "nbformat": 4,
 "nbformat_minor": 0
}
